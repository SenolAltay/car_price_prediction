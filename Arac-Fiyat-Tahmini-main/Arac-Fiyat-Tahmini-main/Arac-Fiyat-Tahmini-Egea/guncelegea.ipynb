{
 "cells": [
  {
   "cell_type": "markdown",
   "id": "bbc11fff",
   "metadata": {},
   "source": [
    "# Kütüphanelerimizi projeye dahil ediyoruz"
   ]
  },
  {
   "cell_type": "code",
   "execution_count": 6,
   "id": "06e96eb4",
   "metadata": {},
   "outputs": [
    {
     "ename": "ModuleNotFoundError",
     "evalue": "No module named 'numpy'",
     "output_type": "error",
     "traceback": [
      "\u001b[1;31m---------------------------------------------------------------------------\u001b[0m",
      "\u001b[1;31mModuleNotFoundError\u001b[0m                       Traceback (most recent call last)",
      "\u001b[1;32mc:\\Users\\SENOL\\Desktop\\Arac-Fiyat-Tahmini-main\\Arac-Fiyat-Tahmini-main\\Arac-Fiyat-Tahmini-Egea\\guncelegea.ipynb Cell 2\u001b[0m line \u001b[0;36m1\n\u001b[1;32m----> <a href='vscode-notebook-cell:/c%3A/Users/SENOL/Desktop/Arac-Fiyat-Tahmini-main/Arac-Fiyat-Tahmini-main/Arac-Fiyat-Tahmini-Egea/guncelegea.ipynb#W1sZmlsZQ%3D%3D?line=0'>1</a>\u001b[0m \u001b[39mimport\u001b[39;00m \u001b[39mnumpy\u001b[39;00m \u001b[39mas\u001b[39;00m \u001b[39mnp\u001b[39;00m\n\u001b[0;32m      <a href='vscode-notebook-cell:/c%3A/Users/SENOL/Desktop/Arac-Fiyat-Tahmini-main/Arac-Fiyat-Tahmini-main/Arac-Fiyat-Tahmini-Egea/guncelegea.ipynb#W1sZmlsZQ%3D%3D?line=1'>2</a>\u001b[0m \u001b[39mimport\u001b[39;00m \u001b[39mpandas\u001b[39;00m \u001b[39mas\u001b[39;00m \u001b[39mpd\u001b[39;00m\n\u001b[0;32m      <a href='vscode-notebook-cell:/c%3A/Users/SENOL/Desktop/Arac-Fiyat-Tahmini-main/Arac-Fiyat-Tahmini-main/Arac-Fiyat-Tahmini-Egea/guncelegea.ipynb#W1sZmlsZQ%3D%3D?line=2'>3</a>\u001b[0m \u001b[39mimport\u001b[39;00m \u001b[39mmatplotlib\u001b[39;00m\u001b[39m.\u001b[39;00m\u001b[39mpyplot\u001b[39;00m \u001b[39mas\u001b[39;00m \u001b[39mplt\u001b[39;00m\n",
      "\u001b[1;31mModuleNotFoundError\u001b[0m: No module named 'numpy'"
     ]
    }
   ],
   "source": [
    "import numpy as np\n",
    "import pandas as pd\n",
    "import matplotlib.pyplot as plt\n",
    "import seaborn as sns\n",
    "from pivottablejs import pivot_ui"
   ]
  },
  {
   "cell_type": "markdown",
   "id": "e81398a7",
   "metadata": {},
   "source": [
    "## .xls formatındaki verisetimizi projeye dahil ediyoruz."
   ]
  },
  {
   "cell_type": "code",
   "execution_count": 127,
   "id": "9befabaa",
   "metadata": {},
   "outputs": [],
   "source": [
    "df1=pd.read_excel(\"egea.xlsx\")"
   ]
  },
  {
   "cell_type": "markdown",
   "id": "89d79c2a",
   "metadata": {},
   "source": [
    "# verimizde bulunan ilk 5 kayıdı yazdırıyoruz"
   ]
  },
  {
   "cell_type": "code",
   "execution_count": 128,
   "id": "7fbf3f59",
   "metadata": {},
   "outputs": [
    {
     "data": {
      "text/html": [
       "<div>\n",
       "<style scoped>\n",
       "    .dataframe tbody tr th:only-of-type {\n",
       "        vertical-align: middle;\n",
       "    }\n",
       "\n",
       "    .dataframe tbody tr th {\n",
       "        vertical-align: top;\n",
       "    }\n",
       "\n",
       "    .dataframe thead th {\n",
       "        text-align: right;\n",
       "    }\n",
       "</style>\n",
       "<table border=\"1\" class=\"dataframe\">\n",
       "  <thead>\n",
       "    <tr style=\"text-align: right;\">\n",
       "      <th></th>\n",
       "      <th>Unnamed: 0</th>\n",
       "      <th>0</th>\n",
       "      <th>1</th>\n",
       "      <th>2</th>\n",
       "      <th>3</th>\n",
       "      <th>4</th>\n",
       "      <th>5</th>\n",
       "      <th>6</th>\n",
       "      <th>7</th>\n",
       "      <th>8</th>\n",
       "      <th>...</th>\n",
       "      <th>13</th>\n",
       "      <th>14</th>\n",
       "      <th>15</th>\n",
       "      <th>16</th>\n",
       "      <th>17</th>\n",
       "      <th>18</th>\n",
       "      <th>19</th>\n",
       "      <th>20</th>\n",
       "      <th>21</th>\n",
       "      <th>22</th>\n",
       "    </tr>\n",
       "  </thead>\n",
       "  <tbody>\n",
       "    <tr>\n",
       "      <th>0</th>\n",
       "      <td>0</td>\n",
       "      <td>434.750 TL</td>\n",
       "      <td>İstanbul / Ataşehir / İnönü Mh.</td>\n",
       "      <td>1.083647e+09</td>\n",
       "      <td>13 Mart 2023</td>\n",
       "      <td>Fiat</td>\n",
       "      <td>Egea</td>\n",
       "      <td>1.3 Multijet Easy Plus</td>\n",
       "      <td>2019.0</td>\n",
       "      <td>Dizel</td>\n",
       "      <td>...</td>\n",
       "      <td>76 - 100 HP</td>\n",
       "      <td>1300 cm3' e kadar</td>\n",
       "      <td>Önden Çekiş</td>\n",
       "      <td>Beyaz</td>\n",
       "      <td>Evet</td>\n",
       "      <td>Hayır</td>\n",
       "      <td>Türkiye (TR) Plakalı</td>\n",
       "      <td>Galeriden</td>\n",
       "      <td>Evet</td>\n",
       "      <td>Evet</td>\n",
       "    </tr>\n",
       "    <tr>\n",
       "      <th>1</th>\n",
       "      <td>1</td>\n",
       "      <td>347.750 TL</td>\n",
       "      <td>İzmir / Buca / İnönü Mh.</td>\n",
       "      <td>1.085030e+09</td>\n",
       "      <td>13 Mart 2023</td>\n",
       "      <td>Fiat</td>\n",
       "      <td>Egea</td>\n",
       "      <td>1.3 Multijet Urban</td>\n",
       "      <td>2015.0</td>\n",
       "      <td>Dizel</td>\n",
       "      <td>...</td>\n",
       "      <td>95 hp</td>\n",
       "      <td>1248 cc</td>\n",
       "      <td>Önden Çekiş</td>\n",
       "      <td>Mavi</td>\n",
       "      <td>Hayır</td>\n",
       "      <td>Evet</td>\n",
       "      <td>Türkiye (TR) Plakalı</td>\n",
       "      <td>Galeriden</td>\n",
       "      <td>Hayır</td>\n",
       "      <td>Evet</td>\n",
       "    </tr>\n",
       "    <tr>\n",
       "      <th>2</th>\n",
       "      <td>2</td>\n",
       "      <td>530.000 TL</td>\n",
       "      <td>Gaziantep / Nurdağı / Aslanlı Mh.</td>\n",
       "      <td>1.085021e+09</td>\n",
       "      <td>13 Mart 2023</td>\n",
       "      <td>Fiat</td>\n",
       "      <td>Egea</td>\n",
       "      <td>1.4 Fire Mirror</td>\n",
       "      <td>2020.0</td>\n",
       "      <td>Benzin &amp; LPG</td>\n",
       "      <td>...</td>\n",
       "      <td>95 hp</td>\n",
       "      <td>1368 cc</td>\n",
       "      <td>Önden Çekiş</td>\n",
       "      <td>Beyaz</td>\n",
       "      <td>Evet</td>\n",
       "      <td>Hayır</td>\n",
       "      <td>Türkiye (TR) Plakalı</td>\n",
       "      <td>Galeriden</td>\n",
       "      <td>Evet</td>\n",
       "      <td>Evet</td>\n",
       "    </tr>\n",
       "    <tr>\n",
       "      <th>3</th>\n",
       "      <td>3</td>\n",
       "      <td>NaN</td>\n",
       "      <td>NaN</td>\n",
       "      <td>NaN</td>\n",
       "      <td>NaN</td>\n",
       "      <td>NaN</td>\n",
       "      <td>NaN</td>\n",
       "      <td>NaN</td>\n",
       "      <td>NaN</td>\n",
       "      <td>NaN</td>\n",
       "      <td>...</td>\n",
       "      <td>NaN</td>\n",
       "      <td>NaN</td>\n",
       "      <td>NaN</td>\n",
       "      <td>NaN</td>\n",
       "      <td>NaN</td>\n",
       "      <td>NaN</td>\n",
       "      <td>NaN</td>\n",
       "      <td>NaN</td>\n",
       "      <td>NaN</td>\n",
       "      <td>NaN</td>\n",
       "    </tr>\n",
       "    <tr>\n",
       "      <th>4</th>\n",
       "      <td>4</td>\n",
       "      <td>477.000 TL</td>\n",
       "      <td>Antalya / Muratpaşa / Ermenek Mah.</td>\n",
       "      <td>1.081546e+09</td>\n",
       "      <td>13 Mart 2023</td>\n",
       "      <td>Fiat</td>\n",
       "      <td>Egea</td>\n",
       "      <td>1.6 Multijet Comfort</td>\n",
       "      <td>2017.0</td>\n",
       "      <td>Dizel</td>\n",
       "      <td>...</td>\n",
       "      <td>120 hp</td>\n",
       "      <td>1598 cc</td>\n",
       "      <td>Önden Çekiş</td>\n",
       "      <td>Beyaz</td>\n",
       "      <td>Hayır</td>\n",
       "      <td>Hayır</td>\n",
       "      <td>Türkiye (TR) Plakalı</td>\n",
       "      <td>Sahibinden</td>\n",
       "      <td>Hayır</td>\n",
       "      <td>Evet</td>\n",
       "    </tr>\n",
       "  </tbody>\n",
       "</table>\n",
       "<p>5 rows × 24 columns</p>\n",
       "</div>"
      ],
      "text/plain": [
       "   Unnamed: 0           0                                   1             2  \\\n",
       "0           0  434.750 TL     İstanbul / Ataşehir / İnönü Mh.  1.083647e+09   \n",
       "1           1  347.750 TL            İzmir / Buca / İnönü Mh.  1.085030e+09   \n",
       "2           2  530.000 TL   Gaziantep / Nurdağı / Aslanlı Mh.  1.085021e+09   \n",
       "3           3         NaN                                 NaN           NaN   \n",
       "4           4  477.000 TL  Antalya / Muratpaşa / Ermenek Mah.  1.081546e+09   \n",
       "\n",
       "                3        4        5                          6       7  \\\n",
       "0    13 Mart 2023    Fiat     Egea     1.3 Multijet Easy Plus   2019.0   \n",
       "1    13 Mart 2023    Fiat     Egea         1.3 Multijet Urban   2015.0   \n",
       "2    13 Mart 2023    Fiat     Egea            1.4 Fire Mirror   2020.0   \n",
       "3             NaN      NaN      NaN                        NaN     NaN   \n",
       "4    13 Mart 2023    Fiat     Egea       1.6 Multijet Comfort   2017.0   \n",
       "\n",
       "                8  ...             13                   14             15  \\\n",
       "0           Dizel  ...    76 - 100 HP    1300 cm3' e kadar    Önden Çekiş   \n",
       "1           Dizel  ...          95 hp              1248 cc    Önden Çekiş   \n",
       "2    Benzin & LPG  ...          95 hp              1368 cc    Önden Çekiş   \n",
       "3             NaN  ...            NaN                  NaN            NaN   \n",
       "4           Dizel  ...         120 hp              1598 cc    Önden Çekiş   \n",
       "\n",
       "        16       17       18                      19            20       21  \\\n",
       "0    Beyaz     Evet    Hayır    Türkiye (TR) Plakalı     Galeriden     Evet   \n",
       "1     Mavi    Hayır     Evet    Türkiye (TR) Plakalı     Galeriden    Hayır   \n",
       "2    Beyaz     Evet    Hayır    Türkiye (TR) Plakalı     Galeriden     Evet   \n",
       "3      NaN      NaN      NaN                     NaN           NaN      NaN   \n",
       "4    Beyaz    Hayır    Hayır    Türkiye (TR) Plakalı    Sahibinden    Hayır   \n",
       "\n",
       "        22  \n",
       "0    Evet   \n",
       "1    Evet   \n",
       "2    Evet   \n",
       "3      NaN  \n",
       "4    Evet   \n",
       "\n",
       "[5 rows x 24 columns]"
      ]
     },
     "execution_count": 128,
     "metadata": {},
     "output_type": "execute_result"
    }
   ],
   "source": [
    "df1.head(5)"
   ]
  },
  {
   "cell_type": "markdown",
   "id": "329a15c7",
   "metadata": {},
   "source": [
    "## Verimizle ilgili bilgiler alıyoruz( veri tipi, kayıt, boş veri varmı vs.)"
   ]
  },
  {
   "cell_type": "code",
   "execution_count": null,
   "metadata": {},
   "outputs": [],
   "source": []
  },
  {
   "cell_type": "code",
   "execution_count": null,
   "metadata": {},
   "outputs": [],
   "source": []
  },
  {
   "cell_type": "code",
   "execution_count": null,
   "id": "d516297d",
   "metadata": {},
   "outputs": [
    {
     "name": "stdout",
     "output_type": "stream",
     "text": [
      "<class 'pandas.core.frame.DataFrame'>\n",
      "RangeIndex: 5340 entries, 0 to 5339\n",
      "Data columns (total 24 columns):\n",
      " #   Column      Non-Null Count  Dtype  \n",
      "---  ------      --------------  -----  \n",
      " 0   Unnamed: 0  5340 non-null   int64  \n",
      " 1   0           4965 non-null   object \n",
      " 2   1           4965 non-null   object \n",
      " 3   2           4965 non-null   float64\n",
      " 4   3           4965 non-null   object \n",
      " 5   4           4965 non-null   object \n",
      " 6   5           4965 non-null   object \n",
      " 7   6           4965 non-null   object \n",
      " 8   7           4965 non-null   float64\n",
      " 9   8           4965 non-null   object \n",
      " 10  9           4965 non-null   object \n",
      " 11  10          4965 non-null   object \n",
      " 12  11          4965 non-null   float64\n",
      " 13  12          4965 non-null   object \n",
      " 14  13          4965 non-null   object \n",
      " 15  14          4965 non-null   object \n",
      " 16  15          4965 non-null   object \n",
      " 17  16          4965 non-null   object \n",
      " 18  17          4965 non-null   object \n",
      " 19  18          4965 non-null   object \n",
      " 20  19          4965 non-null   object \n",
      " 21  20          4965 non-null   object \n",
      " 22  21          4965 non-null   object \n",
      " 23  22          993 non-null    object \n",
      "dtypes: float64(3), int64(1), object(20)\n",
      "memory usage: 1001.4+ KB\n"
     ]
    }
   ],
   "source": [
    "df1.info(verbose=True)"
   ]
  },
  {
   "cell_type": "markdown",
   "id": "b24e1f64",
   "metadata": {},
   "source": [
    "# Veri setimizde bulunan kolunların isimlerini çekiyoruz"
   ]
  },
  {
   "cell_type": "code",
   "execution_count": null,
   "id": "eb838994",
   "metadata": {},
   "outputs": [
    {
     "data": {
      "text/plain": [
       "['Unnamed: 0',\n",
       " '0',\n",
       " '1',\n",
       " '2',\n",
       " '3',\n",
       " '4',\n",
       " '5',\n",
       " '6',\n",
       " '7',\n",
       " '8',\n",
       " '9',\n",
       " '10',\n",
       " '11',\n",
       " '12',\n",
       " '13',\n",
       " '14',\n",
       " '15',\n",
       " '16',\n",
       " '17',\n",
       " '18',\n",
       " '19',\n",
       " '20',\n",
       " '21',\n",
       " '22']"
      ]
     },
     "execution_count": 130,
     "metadata": {},
     "output_type": "execute_result"
    }
   ],
   "source": [
    "list(df1.columns)"
   ]
  },
  {
   "cell_type": "markdown",
   "id": "4f45067d",
   "metadata": {},
   "source": [
    "# Verimizde bulunan boş değerleri veriden çıkartıyoruz."
   ]
  },
  {
   "cell_type": "code",
   "execution_count": 131,
   "id": "718a3ed1",
   "metadata": {},
   "outputs": [],
   "source": [
    "df1['0'] = df1['0'].fillna(method='ffill')\n",
    "df1['1'] = df1['1'].fillna(method='ffill')\n",
    "df1['2'] = df1['2'].fillna(method='ffill')\n",
    "df1['3'] = df1['3'].fillna(method='ffill')\n",
    "df1['4'] = df1['4'].fillna(method='ffill')\n",
    "df1['5'] = df1['5'].fillna(method='ffill')\n",
    "df1['6'] = df1['6'].fillna(method='ffill')\n",
    "df1['7'] = df1['7'].fillna(method='ffill')\n",
    "df1['8'] = df1['8'].fillna(method='ffill')\n",
    "df1['9'] = df1['9'].fillna(method='ffill')\n",
    "df1['10'] = df1['10'].fillna(method='ffill')\n",
    "df1['11'] = df1['11'].fillna(method='ffill')\n",
    "df1['12'] = df1['12'].fillna(method='ffill')\n",
    "df1['13'] = df1['13'].fillna(method='ffill')\n",
    "df1['14'] = df1['14'].fillna(method='ffill')\n",
    "df1['15'] = df1['15'].fillna(method='ffill')\n",
    "df1['16'] = df1['16'].fillna(method='ffill')\n",
    "df1['17'] = df1['17'].fillna(method='ffill')\n",
    "df1['18'] = df1['18'].fillna(method='ffill')\n",
    "df1['19'] = df1['19'].fillna(method='ffill')\n",
    "df1['20'] = df1['20'].fillna(method='ffill')\n",
    "df1['21'] = df1['21'].fillna(method='ffill')\n",
    "df1['22'] = df1['22'].fillna(method='ffill')"
   ]
  },
  {
   "cell_type": "code",
   "execution_count": 132,
   "id": "859d40ac",
   "metadata": {},
   "outputs": [
    {
     "data": {
      "text/html": [
       "<div>\n",
       "<style scoped>\n",
       "    .dataframe tbody tr th:only-of-type {\n",
       "        vertical-align: middle;\n",
       "    }\n",
       "\n",
       "    .dataframe tbody tr th {\n",
       "        vertical-align: top;\n",
       "    }\n",
       "\n",
       "    .dataframe thead th {\n",
       "        text-align: right;\n",
       "    }\n",
       "</style>\n",
       "<table border=\"1\" class=\"dataframe\">\n",
       "  <thead>\n",
       "    <tr style=\"text-align: right;\">\n",
       "      <th></th>\n",
       "      <th>Unnamed: 0</th>\n",
       "      <th>0</th>\n",
       "      <th>1</th>\n",
       "      <th>2</th>\n",
       "      <th>3</th>\n",
       "      <th>4</th>\n",
       "      <th>5</th>\n",
       "      <th>6</th>\n",
       "      <th>7</th>\n",
       "      <th>8</th>\n",
       "      <th>...</th>\n",
       "      <th>13</th>\n",
       "      <th>14</th>\n",
       "      <th>15</th>\n",
       "      <th>16</th>\n",
       "      <th>17</th>\n",
       "      <th>18</th>\n",
       "      <th>19</th>\n",
       "      <th>20</th>\n",
       "      <th>21</th>\n",
       "      <th>22</th>\n",
       "    </tr>\n",
       "  </thead>\n",
       "  <tbody>\n",
       "    <tr>\n",
       "      <th>0</th>\n",
       "      <td>0</td>\n",
       "      <td>434.750 TL</td>\n",
       "      <td>İstanbul / Ataşehir / İnönü Mh.</td>\n",
       "      <td>1.083647e+09</td>\n",
       "      <td>13 Mart 2023</td>\n",
       "      <td>Fiat</td>\n",
       "      <td>Egea</td>\n",
       "      <td>1.3 Multijet Easy Plus</td>\n",
       "      <td>2019.0</td>\n",
       "      <td>Dizel</td>\n",
       "      <td>...</td>\n",
       "      <td>76 - 100 HP</td>\n",
       "      <td>1300 cm3' e kadar</td>\n",
       "      <td>Önden Çekiş</td>\n",
       "      <td>Beyaz</td>\n",
       "      <td>Evet</td>\n",
       "      <td>Hayır</td>\n",
       "      <td>Türkiye (TR) Plakalı</td>\n",
       "      <td>Galeriden</td>\n",
       "      <td>Evet</td>\n",
       "      <td>Evet</td>\n",
       "    </tr>\n",
       "    <tr>\n",
       "      <th>1</th>\n",
       "      <td>1</td>\n",
       "      <td>347.750 TL</td>\n",
       "      <td>İzmir / Buca / İnönü Mh.</td>\n",
       "      <td>1.085030e+09</td>\n",
       "      <td>13 Mart 2023</td>\n",
       "      <td>Fiat</td>\n",
       "      <td>Egea</td>\n",
       "      <td>1.3 Multijet Urban</td>\n",
       "      <td>2015.0</td>\n",
       "      <td>Dizel</td>\n",
       "      <td>...</td>\n",
       "      <td>95 hp</td>\n",
       "      <td>1248 cc</td>\n",
       "      <td>Önden Çekiş</td>\n",
       "      <td>Mavi</td>\n",
       "      <td>Hayır</td>\n",
       "      <td>Evet</td>\n",
       "      <td>Türkiye (TR) Plakalı</td>\n",
       "      <td>Galeriden</td>\n",
       "      <td>Hayır</td>\n",
       "      <td>Evet</td>\n",
       "    </tr>\n",
       "    <tr>\n",
       "      <th>2</th>\n",
       "      <td>2</td>\n",
       "      <td>530.000 TL</td>\n",
       "      <td>Gaziantep / Nurdağı / Aslanlı Mh.</td>\n",
       "      <td>1.085021e+09</td>\n",
       "      <td>13 Mart 2023</td>\n",
       "      <td>Fiat</td>\n",
       "      <td>Egea</td>\n",
       "      <td>1.4 Fire Mirror</td>\n",
       "      <td>2020.0</td>\n",
       "      <td>Benzin &amp; LPG</td>\n",
       "      <td>...</td>\n",
       "      <td>95 hp</td>\n",
       "      <td>1368 cc</td>\n",
       "      <td>Önden Çekiş</td>\n",
       "      <td>Beyaz</td>\n",
       "      <td>Evet</td>\n",
       "      <td>Hayır</td>\n",
       "      <td>Türkiye (TR) Plakalı</td>\n",
       "      <td>Galeriden</td>\n",
       "      <td>Evet</td>\n",
       "      <td>Evet</td>\n",
       "    </tr>\n",
       "    <tr>\n",
       "      <th>3</th>\n",
       "      <td>3</td>\n",
       "      <td>530.000 TL</td>\n",
       "      <td>Gaziantep / Nurdağı / Aslanlı Mh.</td>\n",
       "      <td>1.085021e+09</td>\n",
       "      <td>13 Mart 2023</td>\n",
       "      <td>Fiat</td>\n",
       "      <td>Egea</td>\n",
       "      <td>1.4 Fire Mirror</td>\n",
       "      <td>2020.0</td>\n",
       "      <td>Benzin &amp; LPG</td>\n",
       "      <td>...</td>\n",
       "      <td>95 hp</td>\n",
       "      <td>1368 cc</td>\n",
       "      <td>Önden Çekiş</td>\n",
       "      <td>Beyaz</td>\n",
       "      <td>Evet</td>\n",
       "      <td>Hayır</td>\n",
       "      <td>Türkiye (TR) Plakalı</td>\n",
       "      <td>Galeriden</td>\n",
       "      <td>Evet</td>\n",
       "      <td>Evet</td>\n",
       "    </tr>\n",
       "    <tr>\n",
       "      <th>4</th>\n",
       "      <td>4</td>\n",
       "      <td>477.000 TL</td>\n",
       "      <td>Antalya / Muratpaşa / Ermenek Mah.</td>\n",
       "      <td>1.081546e+09</td>\n",
       "      <td>13 Mart 2023</td>\n",
       "      <td>Fiat</td>\n",
       "      <td>Egea</td>\n",
       "      <td>1.6 Multijet Comfort</td>\n",
       "      <td>2017.0</td>\n",
       "      <td>Dizel</td>\n",
       "      <td>...</td>\n",
       "      <td>120 hp</td>\n",
       "      <td>1598 cc</td>\n",
       "      <td>Önden Çekiş</td>\n",
       "      <td>Beyaz</td>\n",
       "      <td>Hayır</td>\n",
       "      <td>Hayır</td>\n",
       "      <td>Türkiye (TR) Plakalı</td>\n",
       "      <td>Sahibinden</td>\n",
       "      <td>Hayır</td>\n",
       "      <td>Evet</td>\n",
       "    </tr>\n",
       "    <tr>\n",
       "      <th>5</th>\n",
       "      <td>5</td>\n",
       "      <td>435.000 TL</td>\n",
       "      <td>Kocaeli / Çayırova / Akse Mah.</td>\n",
       "      <td>1.085006e+09</td>\n",
       "      <td>13 Mart 2023</td>\n",
       "      <td>Fiat</td>\n",
       "      <td>Egea</td>\n",
       "      <td>1.3 Multijet Urban</td>\n",
       "      <td>2017.0</td>\n",
       "      <td>Dizel</td>\n",
       "      <td>...</td>\n",
       "      <td>95 hp</td>\n",
       "      <td>1248 cc</td>\n",
       "      <td>Önden Çekiş</td>\n",
       "      <td>Beyaz</td>\n",
       "      <td>Hayır</td>\n",
       "      <td>Hayır</td>\n",
       "      <td>Türkiye (TR) Plakalı</td>\n",
       "      <td>Galeriden</td>\n",
       "      <td>Hayır</td>\n",
       "      <td>Evet</td>\n",
       "    </tr>\n",
       "    <tr>\n",
       "      <th>6</th>\n",
       "      <td>6</td>\n",
       "      <td>542.500 TL</td>\n",
       "      <td>İzmir / Gaziemir / Beyazevler Mah.</td>\n",
       "      <td>1.084987e+09</td>\n",
       "      <td>13 Mart 2023</td>\n",
       "      <td>Fiat</td>\n",
       "      <td>Egea</td>\n",
       "      <td>1.6 Multijet Urban Plus</td>\n",
       "      <td>2019.0</td>\n",
       "      <td>Dizel</td>\n",
       "      <td>...</td>\n",
       "      <td>120 hp</td>\n",
       "      <td>1598 cc</td>\n",
       "      <td>Önden Çekiş</td>\n",
       "      <td>Bej</td>\n",
       "      <td>Hayır</td>\n",
       "      <td>Hayır</td>\n",
       "      <td>Türkiye (TR) Plakalı</td>\n",
       "      <td>Sahibinden</td>\n",
       "      <td>Hayır</td>\n",
       "      <td>Evet</td>\n",
       "    </tr>\n",
       "    <tr>\n",
       "      <th>7</th>\n",
       "      <td>7</td>\n",
       "      <td>472.500 TL</td>\n",
       "      <td>İstanbul / Üsküdar / Mehmet Akif Ersoy Mah.</td>\n",
       "      <td>1.084296e+09</td>\n",
       "      <td>13 Mart 2023</td>\n",
       "      <td>Fiat</td>\n",
       "      <td>Egea</td>\n",
       "      <td>1.3 Multijet Easy</td>\n",
       "      <td>2020.0</td>\n",
       "      <td>Dizel</td>\n",
       "      <td>...</td>\n",
       "      <td>95 hp</td>\n",
       "      <td>1248 cc</td>\n",
       "      <td>Önden Çekiş</td>\n",
       "      <td>Beyaz</td>\n",
       "      <td>Hayır</td>\n",
       "      <td>Hayır</td>\n",
       "      <td>Türkiye (TR) Plakalı</td>\n",
       "      <td>Sahibinden</td>\n",
       "      <td>Hayır</td>\n",
       "      <td>Hayır</td>\n",
       "    </tr>\n",
       "    <tr>\n",
       "      <th>8</th>\n",
       "      <td>8</td>\n",
       "      <td>473.500 TL</td>\n",
       "      <td>Kocaeli / Gebze / Osman Yılmaz Mh.</td>\n",
       "      <td>1.084972e+09</td>\n",
       "      <td>13 Mart 2023</td>\n",
       "      <td>Fiat</td>\n",
       "      <td>Egea</td>\n",
       "      <td>1.3 Multijet Easy</td>\n",
       "      <td>2020.0</td>\n",
       "      <td>Dizel</td>\n",
       "      <td>...</td>\n",
       "      <td>95 hp</td>\n",
       "      <td>1248 cc</td>\n",
       "      <td>Önden Çekiş</td>\n",
       "      <td>Gümüş Gri</td>\n",
       "      <td>Evet</td>\n",
       "      <td>Hayır</td>\n",
       "      <td>Türkiye (TR) Plakalı</td>\n",
       "      <td>Galeriden</td>\n",
       "      <td>Evet</td>\n",
       "      <td>Hayır</td>\n",
       "    </tr>\n",
       "    <tr>\n",
       "      <th>9</th>\n",
       "      <td>9</td>\n",
       "      <td>425.000 TL</td>\n",
       "      <td>İstanbul / Maltepe / Cevizli Mah.</td>\n",
       "      <td>1.084939e+09</td>\n",
       "      <td>13 Mart 2023</td>\n",
       "      <td>Fiat</td>\n",
       "      <td>Egea</td>\n",
       "      <td>1.3 Multijet Easy</td>\n",
       "      <td>2019.0</td>\n",
       "      <td>Dizel</td>\n",
       "      <td>...</td>\n",
       "      <td>95 hp</td>\n",
       "      <td>1248 cc</td>\n",
       "      <td>Önden Çekiş</td>\n",
       "      <td>Beyaz</td>\n",
       "      <td>Hayır</td>\n",
       "      <td>Hayır</td>\n",
       "      <td>Türkiye (TR) Plakalı</td>\n",
       "      <td>Sahibinden</td>\n",
       "      <td>Hayır</td>\n",
       "      <td>Hayır</td>\n",
       "    </tr>\n",
       "    <tr>\n",
       "      <th>10</th>\n",
       "      <td>10</td>\n",
       "      <td>660.000 TL</td>\n",
       "      <td>Edirne / Merkez / Şükrüpaşa Mh.</td>\n",
       "      <td>1.084120e+09</td>\n",
       "      <td>13 Mart 2023</td>\n",
       "      <td>Fiat</td>\n",
       "      <td>Egea</td>\n",
       "      <td>1.6 E-Torq Urban Plus</td>\n",
       "      <td>2018.0</td>\n",
       "      <td>Benzin</td>\n",
       "      <td>...</td>\n",
       "      <td>110 hp</td>\n",
       "      <td>1598 cc</td>\n",
       "      <td>Önden Çekiş</td>\n",
       "      <td>Kahverengi</td>\n",
       "      <td>Evet</td>\n",
       "      <td>Hayır</td>\n",
       "      <td>Türkiye (TR) Plakalı</td>\n",
       "      <td>Galeriden</td>\n",
       "      <td>Evet</td>\n",
       "      <td>Evet</td>\n",
       "    </tr>\n",
       "    <tr>\n",
       "      <th>11</th>\n",
       "      <td>11</td>\n",
       "      <td>465.900 TL</td>\n",
       "      <td>İstanbul / Ataşehir / Kayışdağı Mh.</td>\n",
       "      <td>1.082250e+09</td>\n",
       "      <td>13 Mart 2023</td>\n",
       "      <td>Fiat</td>\n",
       "      <td>Egea</td>\n",
       "      <td>1.4 Fire Easy Plus</td>\n",
       "      <td>2022.0</td>\n",
       "      <td>Benzin</td>\n",
       "      <td>...</td>\n",
       "      <td>95 hp</td>\n",
       "      <td>1368 cc</td>\n",
       "      <td>Önden Çekiş</td>\n",
       "      <td>Beyaz</td>\n",
       "      <td>Evet</td>\n",
       "      <td>Hayır</td>\n",
       "      <td>Türkiye (TR) Plakalı</td>\n",
       "      <td>Galeriden</td>\n",
       "      <td>Evet</td>\n",
       "      <td>Evet</td>\n",
       "    </tr>\n",
       "    <tr>\n",
       "      <th>12</th>\n",
       "      <td>12</td>\n",
       "      <td>585.000 TL</td>\n",
       "      <td>Ankara / Keçiören / Aşağı Eğlence Mh.</td>\n",
       "      <td>1.057834e+09</td>\n",
       "      <td>13 Mart 2023</td>\n",
       "      <td>Fiat</td>\n",
       "      <td>Egea</td>\n",
       "      <td>1.6 Multijet Urban Plus</td>\n",
       "      <td>2019.0</td>\n",
       "      <td>Dizel</td>\n",
       "      <td>...</td>\n",
       "      <td>120 hp</td>\n",
       "      <td>1598 cc</td>\n",
       "      <td>Önden Çekiş</td>\n",
       "      <td>Beyaz</td>\n",
       "      <td>Hayır</td>\n",
       "      <td>Hayır</td>\n",
       "      <td>Türkiye (TR) Plakalı</td>\n",
       "      <td>Sahibinden</td>\n",
       "      <td>Evet</td>\n",
       "      <td>Hayır</td>\n",
       "    </tr>\n",
       "    <tr>\n",
       "      <th>13</th>\n",
       "      <td>13</td>\n",
       "      <td>465.750 TL</td>\n",
       "      <td>İstanbul / Ataşehir / Kayışdağı Mh.</td>\n",
       "      <td>1.069203e+09</td>\n",
       "      <td>13 Mart 2023</td>\n",
       "      <td>Fiat</td>\n",
       "      <td>Egea</td>\n",
       "      <td>1.6 Multijet Easy</td>\n",
       "      <td>2019.0</td>\n",
       "      <td>Dizel</td>\n",
       "      <td>...</td>\n",
       "      <td>120 hp</td>\n",
       "      <td>1598 cc</td>\n",
       "      <td>Önden Çekiş</td>\n",
       "      <td>Beyaz</td>\n",
       "      <td>Evet</td>\n",
       "      <td>Hayır</td>\n",
       "      <td>Türkiye (TR) Plakalı</td>\n",
       "      <td>Galeriden</td>\n",
       "      <td>Hayır</td>\n",
       "      <td>Hayır</td>\n",
       "    </tr>\n",
       "    <tr>\n",
       "      <th>14</th>\n",
       "      <td>14</td>\n",
       "      <td>465.750 TL</td>\n",
       "      <td>İstanbul / Ataşehir / Kayışdağı Mh.</td>\n",
       "      <td>1.069203e+09</td>\n",
       "      <td>13 Mart 2023</td>\n",
       "      <td>Fiat</td>\n",
       "      <td>Egea</td>\n",
       "      <td>1.6 Multijet Easy</td>\n",
       "      <td>2019.0</td>\n",
       "      <td>Dizel</td>\n",
       "      <td>...</td>\n",
       "      <td>120 hp</td>\n",
       "      <td>1598 cc</td>\n",
       "      <td>Önden Çekiş</td>\n",
       "      <td>Beyaz</td>\n",
       "      <td>Evet</td>\n",
       "      <td>Hayır</td>\n",
       "      <td>Türkiye (TR) Plakalı</td>\n",
       "      <td>Galeriden</td>\n",
       "      <td>Hayır</td>\n",
       "      <td>Hayır</td>\n",
       "    </tr>\n",
       "    <tr>\n",
       "      <th>15</th>\n",
       "      <td>15</td>\n",
       "      <td>540.000 TL</td>\n",
       "      <td>İstanbul / Beylikdüzü / Adnan Kahveci Mah.</td>\n",
       "      <td>9.782754e+08</td>\n",
       "      <td>13 Mart 2023</td>\n",
       "      <td>Fiat</td>\n",
       "      <td>Egea</td>\n",
       "      <td>1.6 Multijet Easy</td>\n",
       "      <td>2019.0</td>\n",
       "      <td>Dizel</td>\n",
       "      <td>...</td>\n",
       "      <td>120 hp</td>\n",
       "      <td>1598 cc</td>\n",
       "      <td>Önden Çekiş</td>\n",
       "      <td>Beyaz</td>\n",
       "      <td>Evet</td>\n",
       "      <td>Hayır</td>\n",
       "      <td>Türkiye (TR) Plakalı</td>\n",
       "      <td>Galeriden</td>\n",
       "      <td>Hayır</td>\n",
       "      <td>Hayır</td>\n",
       "    </tr>\n",
       "    <tr>\n",
       "      <th>16</th>\n",
       "      <td>16</td>\n",
       "      <td>510.000 TL</td>\n",
       "      <td>İstanbul / Beylikdüzü / Adnan Kahveci Mah.</td>\n",
       "      <td>1.084554e+09</td>\n",
       "      <td>13 Mart 2023</td>\n",
       "      <td>Fiat</td>\n",
       "      <td>Egea</td>\n",
       "      <td>1.6 Multijet Easy</td>\n",
       "      <td>2019.0</td>\n",
       "      <td>Dizel</td>\n",
       "      <td>...</td>\n",
       "      <td>120 hp</td>\n",
       "      <td>1598 cc</td>\n",
       "      <td>Önden Çekiş</td>\n",
       "      <td>Beyaz</td>\n",
       "      <td>Evet</td>\n",
       "      <td>Hayır</td>\n",
       "      <td>Türkiye (TR) Plakalı</td>\n",
       "      <td>Galeriden</td>\n",
       "      <td>Hayır</td>\n",
       "      <td>Evet</td>\n",
       "    </tr>\n",
       "    <tr>\n",
       "      <th>17</th>\n",
       "      <td>17</td>\n",
       "      <td>510.000 TL</td>\n",
       "      <td>İstanbul / Beylikdüzü / Adnan Kahveci Mah.</td>\n",
       "      <td>1.084554e+09</td>\n",
       "      <td>13 Mart 2023</td>\n",
       "      <td>Fiat</td>\n",
       "      <td>Egea</td>\n",
       "      <td>1.6 Multijet Easy</td>\n",
       "      <td>2019.0</td>\n",
       "      <td>Dizel</td>\n",
       "      <td>...</td>\n",
       "      <td>120 hp</td>\n",
       "      <td>1598 cc</td>\n",
       "      <td>Önden Çekiş</td>\n",
       "      <td>Beyaz</td>\n",
       "      <td>Evet</td>\n",
       "      <td>Hayır</td>\n",
       "      <td>Türkiye (TR) Plakalı</td>\n",
       "      <td>Galeriden</td>\n",
       "      <td>Hayır</td>\n",
       "      <td>Evet</td>\n",
       "    </tr>\n",
       "    <tr>\n",
       "      <th>18</th>\n",
       "      <td>18</td>\n",
       "      <td>510.000 TL</td>\n",
       "      <td>Ankara / Çankaya / Çukurambar Mh.</td>\n",
       "      <td>1.084745e+09</td>\n",
       "      <td>12 Mart 2023</td>\n",
       "      <td>Fiat</td>\n",
       "      <td>Egea</td>\n",
       "      <td>1.4 Fire Urban Plus</td>\n",
       "      <td>2020.0</td>\n",
       "      <td>Benzin</td>\n",
       "      <td>...</td>\n",
       "      <td>95 hp</td>\n",
       "      <td>1368 cc</td>\n",
       "      <td>Önden Çekiş</td>\n",
       "      <td>Beyaz</td>\n",
       "      <td>Evet</td>\n",
       "      <td>Hayır</td>\n",
       "      <td>Türkiye (TR) Plakalı</td>\n",
       "      <td>Sahibinden</td>\n",
       "      <td>Evet</td>\n",
       "      <td>Hayır</td>\n",
       "    </tr>\n",
       "    <tr>\n",
       "      <th>19</th>\n",
       "      <td>19</td>\n",
       "      <td>562.500 TL</td>\n",
       "      <td>Mersin / Toroslar / Korukent Mah.</td>\n",
       "      <td>1.084618e+09</td>\n",
       "      <td>11 Mart 2023</td>\n",
       "      <td>Fiat</td>\n",
       "      <td>Egea</td>\n",
       "      <td>1.4 Fire Urban</td>\n",
       "      <td>2022.0</td>\n",
       "      <td>Benzin</td>\n",
       "      <td>...</td>\n",
       "      <td>95 hp</td>\n",
       "      <td>1368 cc</td>\n",
       "      <td>Önden Çekiş</td>\n",
       "      <td>Beyaz</td>\n",
       "      <td>Evet</td>\n",
       "      <td>Hayır</td>\n",
       "      <td>Türkiye (TR) Plakalı</td>\n",
       "      <td>Galeriden</td>\n",
       "      <td>Evet</td>\n",
       "      <td>Evet</td>\n",
       "    </tr>\n",
       "  </tbody>\n",
       "</table>\n",
       "<p>20 rows × 24 columns</p>\n",
       "</div>"
      ],
      "text/plain": [
       "    Unnamed: 0           0                                            1  \\\n",
       "0            0  434.750 TL              İstanbul / Ataşehir / İnönü Mh.   \n",
       "1            1  347.750 TL                     İzmir / Buca / İnönü Mh.   \n",
       "2            2  530.000 TL            Gaziantep / Nurdağı / Aslanlı Mh.   \n",
       "3            3  530.000 TL            Gaziantep / Nurdağı / Aslanlı Mh.   \n",
       "4            4  477.000 TL           Antalya / Muratpaşa / Ermenek Mah.   \n",
       "5            5  435.000 TL               Kocaeli / Çayırova / Akse Mah.   \n",
       "6            6  542.500 TL           İzmir / Gaziemir / Beyazevler Mah.   \n",
       "7            7  472.500 TL  İstanbul / Üsküdar / Mehmet Akif Ersoy Mah.   \n",
       "8            8  473.500 TL           Kocaeli / Gebze / Osman Yılmaz Mh.   \n",
       "9            9  425.000 TL            İstanbul / Maltepe / Cevizli Mah.   \n",
       "10          10  660.000 TL              Edirne / Merkez / Şükrüpaşa Mh.   \n",
       "11          11  465.900 TL          İstanbul / Ataşehir / Kayışdağı Mh.   \n",
       "12          12  585.000 TL        Ankara / Keçiören / Aşağı Eğlence Mh.   \n",
       "13          13  465.750 TL          İstanbul / Ataşehir / Kayışdağı Mh.   \n",
       "14          14  465.750 TL          İstanbul / Ataşehir / Kayışdağı Mh.   \n",
       "15          15  540.000 TL   İstanbul / Beylikdüzü / Adnan Kahveci Mah.   \n",
       "16          16  510.000 TL   İstanbul / Beylikdüzü / Adnan Kahveci Mah.   \n",
       "17          17  510.000 TL   İstanbul / Beylikdüzü / Adnan Kahveci Mah.   \n",
       "18          18  510.000 TL            Ankara / Çankaya / Çukurambar Mh.   \n",
       "19          19  562.500 TL            Mersin / Toroslar / Korukent Mah.   \n",
       "\n",
       "               2               3        4        5  \\\n",
       "0   1.083647e+09    13 Mart 2023    Fiat     Egea    \n",
       "1   1.085030e+09    13 Mart 2023    Fiat     Egea    \n",
       "2   1.085021e+09    13 Mart 2023    Fiat     Egea    \n",
       "3   1.085021e+09    13 Mart 2023    Fiat     Egea    \n",
       "4   1.081546e+09    13 Mart 2023    Fiat     Egea    \n",
       "5   1.085006e+09    13 Mart 2023    Fiat     Egea    \n",
       "6   1.084987e+09    13 Mart 2023    Fiat     Egea    \n",
       "7   1.084296e+09    13 Mart 2023    Fiat     Egea    \n",
       "8   1.084972e+09    13 Mart 2023    Fiat     Egea    \n",
       "9   1.084939e+09    13 Mart 2023    Fiat     Egea    \n",
       "10  1.084120e+09    13 Mart 2023    Fiat     Egea    \n",
       "11  1.082250e+09    13 Mart 2023    Fiat     Egea    \n",
       "12  1.057834e+09    13 Mart 2023    Fiat     Egea    \n",
       "13  1.069203e+09    13 Mart 2023    Fiat     Egea    \n",
       "14  1.069203e+09    13 Mart 2023    Fiat     Egea    \n",
       "15  9.782754e+08    13 Mart 2023    Fiat     Egea    \n",
       "16  1.084554e+09    13 Mart 2023    Fiat     Egea    \n",
       "17  1.084554e+09    13 Mart 2023    Fiat     Egea    \n",
       "18  1.084745e+09    12 Mart 2023    Fiat     Egea    \n",
       "19  1.084618e+09    11 Mart 2023    Fiat     Egea    \n",
       "\n",
       "                             6       7               8  ...             13  \\\n",
       "0      1.3 Multijet Easy Plus   2019.0           Dizel  ...    76 - 100 HP   \n",
       "1          1.3 Multijet Urban   2015.0           Dizel  ...          95 hp   \n",
       "2             1.4 Fire Mirror   2020.0    Benzin & LPG  ...          95 hp   \n",
       "3             1.4 Fire Mirror   2020.0    Benzin & LPG  ...          95 hp   \n",
       "4        1.6 Multijet Comfort   2017.0           Dizel  ...         120 hp   \n",
       "5          1.3 Multijet Urban   2017.0           Dizel  ...          95 hp   \n",
       "6     1.6 Multijet Urban Plus   2019.0           Dizel  ...         120 hp   \n",
       "7           1.3 Multijet Easy   2020.0           Dizel  ...          95 hp   \n",
       "8           1.3 Multijet Easy   2020.0           Dizel  ...          95 hp   \n",
       "9           1.3 Multijet Easy   2019.0           Dizel  ...          95 hp   \n",
       "10      1.6 E-Torq Urban Plus   2018.0          Benzin  ...         110 hp   \n",
       "11         1.4 Fire Easy Plus   2022.0          Benzin  ...          95 hp   \n",
       "12    1.6 Multijet Urban Plus   2019.0           Dizel  ...         120 hp   \n",
       "13         1.6 Multijet Easy    2019.0           Dizel  ...         120 hp   \n",
       "14         1.6 Multijet Easy    2019.0           Dizel  ...         120 hp   \n",
       "15         1.6 Multijet Easy    2019.0           Dizel  ...         120 hp   \n",
       "16         1.6 Multijet Easy    2019.0           Dizel  ...         120 hp   \n",
       "17         1.6 Multijet Easy    2019.0           Dizel  ...         120 hp   \n",
       "18        1.4 Fire Urban Plus   2020.0          Benzin  ...          95 hp   \n",
       "19             1.4 Fire Urban   2022.0          Benzin  ...          95 hp   \n",
       "\n",
       "                     14             15            16       17       18  \\\n",
       "0     1300 cm3' e kadar    Önden Çekiş         Beyaz     Evet    Hayır   \n",
       "1               1248 cc    Önden Çekiş          Mavi    Hayır     Evet   \n",
       "2               1368 cc    Önden Çekiş         Beyaz     Evet    Hayır   \n",
       "3               1368 cc    Önden Çekiş         Beyaz     Evet    Hayır   \n",
       "4               1598 cc    Önden Çekiş         Beyaz    Hayır    Hayır   \n",
       "5               1248 cc    Önden Çekiş         Beyaz    Hayır    Hayır   \n",
       "6               1598 cc    Önden Çekiş           Bej    Hayır    Hayır   \n",
       "7               1248 cc    Önden Çekiş         Beyaz    Hayır    Hayır   \n",
       "8               1248 cc    Önden Çekiş     Gümüş Gri     Evet    Hayır   \n",
       "9               1248 cc    Önden Çekiş         Beyaz    Hayır    Hayır   \n",
       "10              1598 cc    Önden Çekiş    Kahverengi     Evet    Hayır   \n",
       "11              1368 cc    Önden Çekiş         Beyaz     Evet    Hayır   \n",
       "12              1598 cc    Önden Çekiş         Beyaz    Hayır    Hayır   \n",
       "13              1598 cc    Önden Çekiş         Beyaz     Evet    Hayır   \n",
       "14              1598 cc    Önden Çekiş         Beyaz     Evet    Hayır   \n",
       "15              1598 cc    Önden Çekiş         Beyaz     Evet    Hayır   \n",
       "16              1598 cc    Önden Çekiş         Beyaz     Evet    Hayır   \n",
       "17              1598 cc    Önden Çekiş         Beyaz     Evet    Hayır   \n",
       "18              1368 cc    Önden Çekiş         Beyaz     Evet    Hayır   \n",
       "19              1368 cc    Önden Çekiş         Beyaz     Evet    Hayır   \n",
       "\n",
       "                        19            20       21        22  \n",
       "0     Türkiye (TR) Plakalı     Galeriden     Evet     Evet   \n",
       "1     Türkiye (TR) Plakalı     Galeriden    Hayır     Evet   \n",
       "2     Türkiye (TR) Plakalı     Galeriden     Evet     Evet   \n",
       "3     Türkiye (TR) Plakalı     Galeriden     Evet     Evet   \n",
       "4     Türkiye (TR) Plakalı    Sahibinden    Hayır     Evet   \n",
       "5     Türkiye (TR) Plakalı     Galeriden    Hayır     Evet   \n",
       "6     Türkiye (TR) Plakalı    Sahibinden    Hayır     Evet   \n",
       "7     Türkiye (TR) Plakalı    Sahibinden    Hayır    Hayır   \n",
       "8     Türkiye (TR) Plakalı     Galeriden     Evet    Hayır   \n",
       "9     Türkiye (TR) Plakalı    Sahibinden    Hayır    Hayır   \n",
       "10    Türkiye (TR) Plakalı     Galeriden     Evet     Evet   \n",
       "11    Türkiye (TR) Plakalı     Galeriden     Evet     Evet   \n",
       "12    Türkiye (TR) Plakalı    Sahibinden     Evet    Hayır   \n",
       "13    Türkiye (TR) Plakalı     Galeriden    Hayır    Hayır   \n",
       "14    Türkiye (TR) Plakalı     Galeriden    Hayır    Hayır   \n",
       "15    Türkiye (TR) Plakalı     Galeriden    Hayır    Hayır   \n",
       "16    Türkiye (TR) Plakalı     Galeriden    Hayır     Evet   \n",
       "17    Türkiye (TR) Plakalı     Galeriden    Hayır     Evet   \n",
       "18    Türkiye (TR) Plakalı    Sahibinden     Evet    Hayır   \n",
       "19    Türkiye (TR) Plakalı     Galeriden     Evet     Evet   \n",
       "\n",
       "[20 rows x 24 columns]"
      ]
     },
     "execution_count": 132,
     "metadata": {},
     "output_type": "execute_result"
    }
   ],
   "source": [
    "df1.head(20)"
   ]
  },
  {
   "cell_type": "code",
   "execution_count": 133,
   "id": "875d5727",
   "metadata": {},
   "outputs": [],
   "source": [
    "df=df1"
   ]
  },
  {
   "cell_type": "markdown",
   "id": "aaca7ad2",
   "metadata": {},
   "source": [
    "## Veride boş olarak bulunan unnamed kolonunu siliyorum"
   ]
  },
  {
   "cell_type": "code",
   "execution_count": 134,
   "id": "6db19609",
   "metadata": {},
   "outputs": [],
   "source": [
    "df.drop([\"Unnamed: 0\"], axis=1, inplace=True)"
   ]
  },
  {
   "cell_type": "markdown",
   "id": "081bc303",
   "metadata": {},
   "source": [
    "## Kolon isimlerini değiştiriyorum"
   ]
  },
  {
   "cell_type": "code",
   "execution_count": 135,
   "id": "bdb67478",
   "metadata": {},
   "outputs": [],
   "source": [
    "df.rename(columns={'0':'fiyat','1':'adres','2':'ilan_no','3':'ilan_tarihi','4':'marka','5':'seri','6':'model','7':'yil',\n",
    "                    '8':'yakit','9':'vites','10':'arac_durumu','11':'km','12':'kasa_tipi','13':'motor_gucu','14':'motor_hacmi',\n",
    "                    '15':'cekis','16':'renk','17':'garanti','18':'agir_hasar_kayitli','19':'plaka_uyruk','20':'kimden',\n",
    "                    '21':'goruntulu_arama_ile_gorulebilir','22':'takas'},inplace=True)"
   ]
  },
  {
   "cell_type": "code",
   "execution_count": 136,
   "id": "94ec9c7f",
   "metadata": {},
   "outputs": [
    {
     "name": "stdout",
     "output_type": "stream",
     "text": [
      "<class 'pandas.core.frame.DataFrame'>\n",
      "RangeIndex: 5340 entries, 0 to 5339\n",
      "Data columns (total 23 columns):\n",
      " #   Column                           Non-Null Count  Dtype  \n",
      "---  ------                           --------------  -----  \n",
      " 0   fiyat                            5340 non-null   object \n",
      " 1   adres                            5340 non-null   object \n",
      " 2   ilan_no                          5340 non-null   float64\n",
      " 3   ilan_tarihi                      5340 non-null   object \n",
      " 4   marka                            5340 non-null   object \n",
      " 5   seri                             5340 non-null   object \n",
      " 6   model                            5340 non-null   object \n",
      " 7   yil                              5340 non-null   float64\n",
      " 8   yakit                            5340 non-null   object \n",
      " 9   vites                            5340 non-null   object \n",
      " 10  arac_durumu                      5340 non-null   object \n",
      " 11  km                               5340 non-null   float64\n",
      " 12  kasa_tipi                        5340 non-null   object \n",
      " 13  motor_gucu                       5340 non-null   object \n",
      " 14  motor_hacmi                      5340 non-null   object \n",
      " 15  cekis                            5340 non-null   object \n",
      " 16  renk                             5340 non-null   object \n",
      " 17  garanti                          5340 non-null   object \n",
      " 18  agir_hasar_kayitli               5340 non-null   object \n",
      " 19  plaka_uyruk                      5340 non-null   object \n",
      " 20  kimden                           5340 non-null   object \n",
      " 21  goruntulu_arama_ile_gorulebilir  5340 non-null   object \n",
      " 22  takas                            5340 non-null   object \n",
      "dtypes: float64(3), object(20)\n",
      "memory usage: 959.7+ KB\n"
     ]
    }
   ],
   "source": [
    "df.info()"
   ]
  },
  {
   "cell_type": "code",
   "execution_count": 137,
   "id": "9e7c2f1a",
   "metadata": {},
   "outputs": [
    {
     "data": {
      "text/html": [
       "<div>\n",
       "<style scoped>\n",
       "    .dataframe tbody tr th:only-of-type {\n",
       "        vertical-align: middle;\n",
       "    }\n",
       "\n",
       "    .dataframe tbody tr th {\n",
       "        vertical-align: top;\n",
       "    }\n",
       "\n",
       "    .dataframe thead th {\n",
       "        text-align: right;\n",
       "    }\n",
       "</style>\n",
       "<table border=\"1\" class=\"dataframe\">\n",
       "  <thead>\n",
       "    <tr style=\"text-align: right;\">\n",
       "      <th></th>\n",
       "      <th>fiyat</th>\n",
       "      <th>adres</th>\n",
       "      <th>ilan_no</th>\n",
       "      <th>ilan_tarihi</th>\n",
       "      <th>marka</th>\n",
       "      <th>seri</th>\n",
       "      <th>model</th>\n",
       "      <th>yil</th>\n",
       "      <th>yakit</th>\n",
       "      <th>vites</th>\n",
       "      <th>...</th>\n",
       "      <th>motor_gucu</th>\n",
       "      <th>motor_hacmi</th>\n",
       "      <th>cekis</th>\n",
       "      <th>renk</th>\n",
       "      <th>garanti</th>\n",
       "      <th>agir_hasar_kayitli</th>\n",
       "      <th>plaka_uyruk</th>\n",
       "      <th>kimden</th>\n",
       "      <th>goruntulu_arama_ile_gorulebilir</th>\n",
       "      <th>takas</th>\n",
       "    </tr>\n",
       "  </thead>\n",
       "  <tbody>\n",
       "    <tr>\n",
       "      <th>0</th>\n",
       "      <td>434.750 TL</td>\n",
       "      <td>İstanbul / Ataşehir / İnönü Mh.</td>\n",
       "      <td>1.083647e+09</td>\n",
       "      <td>13 Mart 2023</td>\n",
       "      <td>Fiat</td>\n",
       "      <td>Egea</td>\n",
       "      <td>1.3 Multijet Easy Plus</td>\n",
       "      <td>2019.0</td>\n",
       "      <td>Dizel</td>\n",
       "      <td>Manuel</td>\n",
       "      <td>...</td>\n",
       "      <td>76 - 100 HP</td>\n",
       "      <td>1300 cm3' e kadar</td>\n",
       "      <td>Önden Çekiş</td>\n",
       "      <td>Beyaz</td>\n",
       "      <td>Evet</td>\n",
       "      <td>Hayır</td>\n",
       "      <td>Türkiye (TR) Plakalı</td>\n",
       "      <td>Galeriden</td>\n",
       "      <td>Evet</td>\n",
       "      <td>Evet</td>\n",
       "    </tr>\n",
       "    <tr>\n",
       "      <th>1</th>\n",
       "      <td>347.750 TL</td>\n",
       "      <td>İzmir / Buca / İnönü Mh.</td>\n",
       "      <td>1.085030e+09</td>\n",
       "      <td>13 Mart 2023</td>\n",
       "      <td>Fiat</td>\n",
       "      <td>Egea</td>\n",
       "      <td>1.3 Multijet Urban</td>\n",
       "      <td>2015.0</td>\n",
       "      <td>Dizel</td>\n",
       "      <td>Manuel</td>\n",
       "      <td>...</td>\n",
       "      <td>95 hp</td>\n",
       "      <td>1248 cc</td>\n",
       "      <td>Önden Çekiş</td>\n",
       "      <td>Mavi</td>\n",
       "      <td>Hayır</td>\n",
       "      <td>Evet</td>\n",
       "      <td>Türkiye (TR) Plakalı</td>\n",
       "      <td>Galeriden</td>\n",
       "      <td>Hayır</td>\n",
       "      <td>Evet</td>\n",
       "    </tr>\n",
       "    <tr>\n",
       "      <th>2</th>\n",
       "      <td>530.000 TL</td>\n",
       "      <td>Gaziantep / Nurdağı / Aslanlı Mh.</td>\n",
       "      <td>1.085021e+09</td>\n",
       "      <td>13 Mart 2023</td>\n",
       "      <td>Fiat</td>\n",
       "      <td>Egea</td>\n",
       "      <td>1.4 Fire Mirror</td>\n",
       "      <td>2020.0</td>\n",
       "      <td>Benzin &amp; LPG</td>\n",
       "      <td>Manuel</td>\n",
       "      <td>...</td>\n",
       "      <td>95 hp</td>\n",
       "      <td>1368 cc</td>\n",
       "      <td>Önden Çekiş</td>\n",
       "      <td>Beyaz</td>\n",
       "      <td>Evet</td>\n",
       "      <td>Hayır</td>\n",
       "      <td>Türkiye (TR) Plakalı</td>\n",
       "      <td>Galeriden</td>\n",
       "      <td>Evet</td>\n",
       "      <td>Evet</td>\n",
       "    </tr>\n",
       "    <tr>\n",
       "      <th>3</th>\n",
       "      <td>530.000 TL</td>\n",
       "      <td>Gaziantep / Nurdağı / Aslanlı Mh.</td>\n",
       "      <td>1.085021e+09</td>\n",
       "      <td>13 Mart 2023</td>\n",
       "      <td>Fiat</td>\n",
       "      <td>Egea</td>\n",
       "      <td>1.4 Fire Mirror</td>\n",
       "      <td>2020.0</td>\n",
       "      <td>Benzin &amp; LPG</td>\n",
       "      <td>Manuel</td>\n",
       "      <td>...</td>\n",
       "      <td>95 hp</td>\n",
       "      <td>1368 cc</td>\n",
       "      <td>Önden Çekiş</td>\n",
       "      <td>Beyaz</td>\n",
       "      <td>Evet</td>\n",
       "      <td>Hayır</td>\n",
       "      <td>Türkiye (TR) Plakalı</td>\n",
       "      <td>Galeriden</td>\n",
       "      <td>Evet</td>\n",
       "      <td>Evet</td>\n",
       "    </tr>\n",
       "    <tr>\n",
       "      <th>4</th>\n",
       "      <td>477.000 TL</td>\n",
       "      <td>Antalya / Muratpaşa / Ermenek Mah.</td>\n",
       "      <td>1.081546e+09</td>\n",
       "      <td>13 Mart 2023</td>\n",
       "      <td>Fiat</td>\n",
       "      <td>Egea</td>\n",
       "      <td>1.6 Multijet Comfort</td>\n",
       "      <td>2017.0</td>\n",
       "      <td>Dizel</td>\n",
       "      <td>Yarı Otomatik</td>\n",
       "      <td>...</td>\n",
       "      <td>120 hp</td>\n",
       "      <td>1598 cc</td>\n",
       "      <td>Önden Çekiş</td>\n",
       "      <td>Beyaz</td>\n",
       "      <td>Hayır</td>\n",
       "      <td>Hayır</td>\n",
       "      <td>Türkiye (TR) Plakalı</td>\n",
       "      <td>Sahibinden</td>\n",
       "      <td>Hayır</td>\n",
       "      <td>Evet</td>\n",
       "    </tr>\n",
       "  </tbody>\n",
       "</table>\n",
       "<p>5 rows × 23 columns</p>\n",
       "</div>"
      ],
      "text/plain": [
       "        fiyat                               adres       ilan_no  \\\n",
       "0  434.750 TL     İstanbul / Ataşehir / İnönü Mh.  1.083647e+09   \n",
       "1  347.750 TL            İzmir / Buca / İnönü Mh.  1.085030e+09   \n",
       "2  530.000 TL   Gaziantep / Nurdağı / Aslanlı Mh.  1.085021e+09   \n",
       "3  530.000 TL   Gaziantep / Nurdağı / Aslanlı Mh.  1.085021e+09   \n",
       "4  477.000 TL  Antalya / Muratpaşa / Ermenek Mah.  1.081546e+09   \n",
       "\n",
       "      ilan_tarihi    marka     seri                      model     yil  \\\n",
       "0    13 Mart 2023    Fiat     Egea     1.3 Multijet Easy Plus   2019.0   \n",
       "1    13 Mart 2023    Fiat     Egea         1.3 Multijet Urban   2015.0   \n",
       "2    13 Mart 2023    Fiat     Egea            1.4 Fire Mirror   2020.0   \n",
       "3    13 Mart 2023    Fiat     Egea            1.4 Fire Mirror   2020.0   \n",
       "4    13 Mart 2023    Fiat     Egea       1.6 Multijet Comfort   2017.0   \n",
       "\n",
       "            yakit            vites  ...     motor_gucu          motor_hacmi  \\\n",
       "0           Dizel           Manuel  ...    76 - 100 HP    1300 cm3' e kadar   \n",
       "1           Dizel           Manuel  ...          95 hp              1248 cc   \n",
       "2    Benzin & LPG           Manuel  ...          95 hp              1368 cc   \n",
       "3    Benzin & LPG           Manuel  ...          95 hp              1368 cc   \n",
       "4           Dizel    Yarı Otomatik  ...         120 hp              1598 cc   \n",
       "\n",
       "           cekis     renk  garanti agir_hasar_kayitli             plaka_uyruk  \\\n",
       "0    Önden Çekiş    Beyaz     Evet              Hayır    Türkiye (TR) Plakalı   \n",
       "1    Önden Çekiş     Mavi    Hayır               Evet    Türkiye (TR) Plakalı   \n",
       "2    Önden Çekiş    Beyaz     Evet              Hayır    Türkiye (TR) Plakalı   \n",
       "3    Önden Çekiş    Beyaz     Evet              Hayır    Türkiye (TR) Plakalı   \n",
       "4    Önden Çekiş    Beyaz    Hayır              Hayır    Türkiye (TR) Plakalı   \n",
       "\n",
       "         kimden goruntulu_arama_ile_gorulebilir    takas  \n",
       "0     Galeriden                            Evet    Evet   \n",
       "1     Galeriden                           Hayır    Evet   \n",
       "2     Galeriden                            Evet    Evet   \n",
       "3     Galeriden                            Evet    Evet   \n",
       "4    Sahibinden                           Hayır    Evet   \n",
       "\n",
       "[5 rows x 23 columns]"
      ]
     },
     "execution_count": 137,
     "metadata": {},
     "output_type": "execute_result"
    }
   ],
   "source": [
    "df.head()"
   ]
  },
  {
   "cell_type": "markdown",
   "id": "48e44b3a",
   "metadata": {},
   "source": [
    "# Fiyat kısmını int tipine çevirmeliyiz önce TL ibaresini kaldırıyoruz daha sonra yanında bulunan boşlukları vs. kaldırıyorum"
   ]
  },
  {
   "cell_type": "code",
   "execution_count": 138,
   "id": "0da1d51e",
   "metadata": {},
   "outputs": [
    {
     "name": "stderr",
     "output_type": "stream",
     "text": [
      "C:\\Users\\admin\\AppData\\Local\\Temp\\ipykernel_2832\\459440915.py:2: FutureWarning: The default value of regex will change from True to False in a future version. In addition, single character regular expressions will *not* be treated as literal strings when regex=True.\n",
      "  df['fiyat']=df['fiyat'].str.replace(\".\", \"\")\n"
     ]
    }
   ],
   "source": [
    "df['fiyat']=df['fiyat'].str.replace(\"TL\", \"\")\n",
    "df['fiyat']=df['fiyat'].str.replace(\".\", \"\")\n",
    "df['fiyat']=pd.to_numeric(df['fiyat'], errors='coerce')"
   ]
  },
  {
   "cell_type": "code",
   "execution_count": 139,
   "id": "54e317ce",
   "metadata": {},
   "outputs": [],
   "source": [
    "df['yakit']=df['yakit'].str.replace(\"&\", \" \")"
   ]
  },
  {
   "cell_type": "code",
   "execution_count": 140,
   "id": "237429f9",
   "metadata": {},
   "outputs": [
    {
     "name": "stdout",
     "output_type": "stream",
     "text": [
      "<class 'pandas.core.frame.DataFrame'>\n",
      "RangeIndex: 5340 entries, 0 to 5339\n",
      "Data columns (total 23 columns):\n",
      " #   Column                           Non-Null Count  Dtype  \n",
      "---  ------                           --------------  -----  \n",
      " 0   fiyat                            5340 non-null   int64  \n",
      " 1   adres                            5340 non-null   object \n",
      " 2   ilan_no                          5340 non-null   float64\n",
      " 3   ilan_tarihi                      5340 non-null   object \n",
      " 4   marka                            5340 non-null   object \n",
      " 5   seri                             5340 non-null   object \n",
      " 6   model                            5340 non-null   object \n",
      " 7   yil                              5340 non-null   float64\n",
      " 8   yakit                            5340 non-null   object \n",
      " 9   vites                            5340 non-null   object \n",
      " 10  arac_durumu                      5340 non-null   object \n",
      " 11  km                               5340 non-null   float64\n",
      " 12  kasa_tipi                        5340 non-null   object \n",
      " 13  motor_gucu                       5340 non-null   object \n",
      " 14  motor_hacmi                      5340 non-null   object \n",
      " 15  cekis                            5340 non-null   object \n",
      " 16  renk                             5340 non-null   object \n",
      " 17  garanti                          5340 non-null   object \n",
      " 18  agir_hasar_kayitli               5340 non-null   object \n",
      " 19  plaka_uyruk                      5340 non-null   object \n",
      " 20  kimden                           5340 non-null   object \n",
      " 21  goruntulu_arama_ile_gorulebilir  5340 non-null   object \n",
      " 22  takas                            5340 non-null   object \n",
      "dtypes: float64(3), int64(1), object(19)\n",
      "memory usage: 959.7+ KB\n"
     ]
    }
   ],
   "source": [
    "df.info()"
   ]
  },
  {
   "cell_type": "code",
   "execution_count": 141,
   "id": "8a117381",
   "metadata": {},
   "outputs": [
    {
     "data": {
      "text/html": [
       "<div>\n",
       "<style scoped>\n",
       "    .dataframe tbody tr th:only-of-type {\n",
       "        vertical-align: middle;\n",
       "    }\n",
       "\n",
       "    .dataframe tbody tr th {\n",
       "        vertical-align: top;\n",
       "    }\n",
       "\n",
       "    .dataframe thead th {\n",
       "        text-align: right;\n",
       "    }\n",
       "</style>\n",
       "<table border=\"1\" class=\"dataframe\">\n",
       "  <thead>\n",
       "    <tr style=\"text-align: right;\">\n",
       "      <th></th>\n",
       "      <th>fiyat</th>\n",
       "      <th>adres</th>\n",
       "      <th>ilan_no</th>\n",
       "      <th>ilan_tarihi</th>\n",
       "      <th>marka</th>\n",
       "      <th>seri</th>\n",
       "      <th>model</th>\n",
       "      <th>yil</th>\n",
       "      <th>yakit</th>\n",
       "      <th>vites</th>\n",
       "      <th>...</th>\n",
       "      <th>motor_gucu</th>\n",
       "      <th>motor_hacmi</th>\n",
       "      <th>cekis</th>\n",
       "      <th>renk</th>\n",
       "      <th>garanti</th>\n",
       "      <th>agir_hasar_kayitli</th>\n",
       "      <th>plaka_uyruk</th>\n",
       "      <th>kimden</th>\n",
       "      <th>goruntulu_arama_ile_gorulebilir</th>\n",
       "      <th>takas</th>\n",
       "    </tr>\n",
       "  </thead>\n",
       "  <tbody>\n",
       "    <tr>\n",
       "      <th>0</th>\n",
       "      <td>434750</td>\n",
       "      <td>İstanbul / Ataşehir / İnönü Mh.</td>\n",
       "      <td>1.083647e+09</td>\n",
       "      <td>13 Mart 2023</td>\n",
       "      <td>Fiat</td>\n",
       "      <td>Egea</td>\n",
       "      <td>1.3 Multijet Easy Plus</td>\n",
       "      <td>2019.0</td>\n",
       "      <td>Dizel</td>\n",
       "      <td>Manuel</td>\n",
       "      <td>...</td>\n",
       "      <td>76 - 100 HP</td>\n",
       "      <td>1300 cm3' e kadar</td>\n",
       "      <td>Önden Çekiş</td>\n",
       "      <td>Beyaz</td>\n",
       "      <td>Evet</td>\n",
       "      <td>Hayır</td>\n",
       "      <td>Türkiye (TR) Plakalı</td>\n",
       "      <td>Galeriden</td>\n",
       "      <td>Evet</td>\n",
       "      <td>Evet</td>\n",
       "    </tr>\n",
       "  </tbody>\n",
       "</table>\n",
       "<p>1 rows × 23 columns</p>\n",
       "</div>"
      ],
      "text/plain": [
       "    fiyat                            adres       ilan_no     ilan_tarihi  \\\n",
       "0  434750  İstanbul / Ataşehir / İnönü Mh.  1.083647e+09    13 Mart 2023   \n",
       "\n",
       "     marka     seri                      model     yil    yakit     vites  \\\n",
       "0    Fiat     Egea     1.3 Multijet Easy Plus   2019.0    Dizel    Manuel   \n",
       "\n",
       "   ...     motor_gucu          motor_hacmi          cekis     renk garanti  \\\n",
       "0  ...    76 - 100 HP    1300 cm3' e kadar    Önden Çekiş    Beyaz    Evet   \n",
       "\n",
       "  agir_hasar_kayitli             plaka_uyruk       kimden  \\\n",
       "0              Hayır    Türkiye (TR) Plakalı    Galeriden   \n",
       "\n",
       "  goruntulu_arama_ile_gorulebilir    takas  \n",
       "0                            Evet    Evet   \n",
       "\n",
       "[1 rows x 23 columns]"
      ]
     },
     "execution_count": 141,
     "metadata": {},
     "output_type": "execute_result"
    }
   ],
   "source": [
    "df.head(1)"
   ]
  },
  {
   "cell_type": "code",
   "execution_count": 4,
   "id": "6b0f5be8",
   "metadata": {},
   "outputs": [
    {
     "ename": "NameError",
     "evalue": "name 'df' is not defined",
     "output_type": "error",
     "traceback": [
      "\u001b[1;31m---------------------------------------------------------------------------\u001b[0m",
      "\u001b[1;31mNameError\u001b[0m                                 Traceback (most recent call last)",
      "\u001b[1;32mc:\\Users\\SENOL\\Desktop\\Arac-Fiyat-Tahmini-main\\Arac-Fiyat-Tahmini-main\\Arac-Fiyat-Tahmini-Egea\\guncelegea.ipynb Cell 28\u001b[0m line \u001b[0;36m1\n\u001b[1;32m----> <a href='vscode-notebook-cell:/c%3A/Users/SENOL/Desktop/Arac-Fiyat-Tahmini-main/Arac-Fiyat-Tahmini-main/Arac-Fiyat-Tahmini-Egea/guncelegea.ipynb#X34sZmlsZQ%3D%3D?line=0'>1</a>\u001b[0m df\u001b[39m.\u001b[39mdescribe()\u001b[39m.\u001b[39mT\n",
      "\u001b[1;31mNameError\u001b[0m: name 'df' is not defined"
     ]
    }
   ],
   "source": [
    "df.describe().T"
   ]
  },
  {
   "cell_type": "code",
   "execution_count": 143,
   "id": "025397a7",
   "metadata": {},
   "outputs": [
    {
     "data": {
      "text/plain": [
       "(5340, 23)"
      ]
     },
     "execution_count": 143,
     "metadata": {},
     "output_type": "execute_result"
    }
   ],
   "source": [
    "df.shape"
   ]
  },
  {
   "cell_type": "code",
   "execution_count": 144,
   "id": "56141d66",
   "metadata": {},
   "outputs": [
    {
     "data": {
      "text/html": [
       "\n",
       "        <iframe\n",
       "            width=\"100%\"\n",
       "            height=\"500\"\n",
       "            src=\"pivottablejs.html\"\n",
       "            frameborder=\"0\"\n",
       "            allowfullscreen\n",
       "            \n",
       "        ></iframe>\n",
       "        "
      ],
      "text/plain": [
       "<IPython.lib.display.IFrame at 0x20841764e20>"
      ]
     },
     "execution_count": 144,
     "metadata": {},
     "output_type": "execute_result"
    }
   ],
   "source": [
    "pivot_ui(df)"
   ]
  },
  {
   "cell_type": "code",
   "execution_count": 145,
   "id": "cf249277",
   "metadata": {},
   "outputs": [
    {
     "data": {
      "text/plain": [
       "  Egea     5340\n",
       "Name: seri, dtype: int64"
      ]
     },
     "execution_count": 145,
     "metadata": {},
     "output_type": "execute_result"
    }
   ],
   "source": [
    "df.seri.value_counts()"
   ]
  },
  {
   "cell_type": "code",
   "execution_count": 146,
   "id": "19112b21",
   "metadata": {},
   "outputs": [
    {
     "data": {
      "text/plain": [
       "2020.0    1070\n",
       "2019.0     875\n",
       "2022.0     770\n",
       "2021.0     740\n",
       "2017.0     720\n",
       "2016.0     575\n",
       "2018.0     500\n",
       "2015.0      90\n",
       "Name: yil, dtype: int64"
      ]
     },
     "execution_count": 146,
     "metadata": {},
     "output_type": "execute_result"
    }
   ],
   "source": [
    "df.yil.value_counts()"
   ]
  },
  {
   "cell_type": "code",
   "execution_count": 147,
   "id": "a18c072c",
   "metadata": {},
   "outputs": [
    {
     "data": {
      "text/plain": [
       "<AxesSubplot:>"
      ]
     },
     "execution_count": 147,
     "metadata": {},
     "output_type": "execute_result"
    },
    {
     "data": {
      "image/png": "[encoded data removed]",
      "text/plain": [
       "<Figure size 432x288 with 1 Axes>"
      ]
     },
     "metadata": {
      "needs_background": "light"
     },
     "output_type": "display_data"
    }
   ],
   "source": [
    "df.yakit.value_counts().plot.barh()"
   ]
  },
  {
   "cell_type": "code",
   "execution_count": 148,
   "id": "d7b65c57",
   "metadata": {},
   "outputs": [
    {
     "data": {
      "text/plain": [
       "<AxesSubplot:>"
      ]
     },
     "execution_count": 148,
     "metadata": {},
     "output_type": "execute_result"
    },
    {
     "data": {
      "image/png": "[encoded data removed]",
      "text/plain": [
       "<Figure size 432x288 with 1 Axes>"
      ]
     },
     "metadata": {
      "needs_background": "light"
     },
     "output_type": "display_data"
    }
   ],
   "source": [
    "df.renk.value_counts().plot.barh()"
   ]
  },
  {
   "cell_type": "code",
   "execution_count": 149,
   "id": "d0746563",
   "metadata": {},
   "outputs": [
    {
     "data": {
      "text/plain": [
       "count      5340.000000\n",
       "mean     493073.477528\n",
       "std       72814.148195\n",
       "min      278000.000000\n",
       "25%      445000.000000\n",
       "50%      490000.000000\n",
       "75%      535000.000000\n",
       "max      775000.000000\n",
       "Name: fiyat, dtype: float64"
      ]
     },
     "execution_count": 149,
     "metadata": {},
     "output_type": "execute_result"
    }
   ],
   "source": [
    "df.fiyat.describe()"
   ]
  },
  {
   "cell_type": "code",
   "execution_count": 150,
   "id": "d34366a7",
   "metadata": {},
   "outputs": [
    {
     "data": {
      "text/plain": [
       "Text(0, 0.5, 'Yakıt')"
      ]
     },
     "execution_count": 150,
     "metadata": {},
     "output_type": "execute_result"
    },
    {
     "data": {
      "image/png": "[encoded data removed]",
      "text/plain": [
       "<Figure size 360x1080 with 1 Axes>"
      ]
     },
     "metadata": {},
     "output_type": "display_data"
    }
   ],
   "source": [
    "fig=plt.figure(figsize=(5,15))\n",
    "df.yakit.value_counts().plot(kind='pie', autopct='%.1f%%')\n",
    "plt.ylabel(\"Yakıt\", fontsize=20)"
   ]
  },
  {
   "cell_type": "code",
   "execution_count": 151,
   "id": "d221d4bb",
   "metadata": {},
   "outputs": [
    {
     "data": {
      "text/plain": [
       "Text(0, 0.5, 'Vites')"
      ]
     },
     "execution_count": 151,
     "metadata": {},
     "output_type": "execute_result"
    },
    {
     "data": {
      "image/png": "[encoded data removed]",
      "text/plain": [
       "<Figure size 360x1080 with 1 Axes>"
      ]
     },
     "metadata": {},
     "output_type": "display_data"
    }
   ],
   "source": [
    "fig=plt.figure(figsize=(5,15))\n",
    "df.vites.value_counts().plot(kind='pie', autopct='%.1f%%')\n",
    "plt.ylabel(\"Vites\", fontsize=20)"
   ]
  },
  {
   "cell_type": "code",
   "execution_count": 152,
   "id": "275a7be5",
   "metadata": {},
   "outputs": [
    {
     "data": {
      "text/plain": [
       "Text(0, 0.5, 'Takas')"
      ]
     },
     "execution_count": 152,
     "metadata": {},
     "output_type": "execute_result"
    },
    {
     "data": {
      "image/png": "[encoded data removed]",
      "text/plain": [
       "<Figure size 360x1080 with 1 Axes>"
      ]
     },
     "metadata": {},
     "output_type": "display_data"
    }
   ],
   "source": [
    "fig=plt.figure(figsize=(5,15))\n",
    "df.takas.value_counts().plot(kind='pie', autopct='%.1f%%')\n",
    "plt.ylabel(\"Takas\", fontsize=20)"
   ]
  },
  {
   "cell_type": "code",
   "execution_count": 153,
   "id": "1fdb20e7",
   "metadata": {},
   "outputs": [
    {
     "data": {
      "text/plain": [
       "Text(0, 0.5, 'Kimden')"
      ]
     },
     "execution_count": 153,
     "metadata": {},
     "output_type": "execute_result"
    },
    {
     "data": {
      "image/png": "[encoded data removed]",
      "text/plain": [
       "<Figure size 360x1080 with 1 Axes>"
      ]
     },
     "metadata": {},
     "output_type": "display_data"
    }
   ],
   "source": [
    "fig=plt.figure(figsize=(5,15))\n",
    "df.kimden.value_counts().plot(kind='pie', autopct='%.1f%%')\n",
    "plt.ylabel(\"Kimden\", fontsize=20)"
   ]
  },
  {
   "cell_type": "code",
   "execution_count": 154,
   "id": "2054e27c",
   "metadata": {},
   "outputs": [
    {
     "data": {
      "text/plain": [
       "Text(0, 0.5, 'Kasa Tipi')"
      ]
     },
     "execution_count": 154,
     "metadata": {},
     "output_type": "execute_result"
    },
    {
     "data": {
      "image/png": "[encoded data removed]",
      "text/plain": [
       "<Figure size 360x1080 with 1 Axes>"
      ]
     },
     "metadata": {},
     "output_type": "display_data"
    }
   ],
   "source": [
    "fig=plt.figure(figsize=(5,15))\n",
    "df.kasa_tipi.value_counts().plot(kind='pie', autopct='%.1f%%')\n",
    "plt.ylabel(\"Kasa Tipi\", fontsize=20)"
   ]
  },
  {
   "cell_type": "code",
   "execution_count": 155,
   "id": "b0df9b79",
   "metadata": {},
   "outputs": [
    {
     "data": {
      "text/plain": [
       "0       161.0\n",
       "1       143.0\n",
       "2        29.5\n",
       "3        29.5\n",
       "4       166.8\n",
       "        ...  \n",
       "5335     38.0\n",
       "5336     38.0\n",
       "5337     54.0\n",
       "5338     54.0\n",
       "5339    118.0\n",
       "Name: km, Length: 5340, dtype: float64"
      ]
     },
     "execution_count": 155,
     "metadata": {},
     "output_type": "execute_result"
    }
   ],
   "source": [
    "df['km']"
   ]
  },
  {
   "cell_type": "markdown",
   "id": "bc321e4b",
   "metadata": {},
   "source": [
    "## KM ile ilgili bir sıkıntı var şimdi . ve nokta sonrasını çıkartmalıyız ve çıkan sonucu 1000 ile çarparsak doğru sonuçlara ulaşacağız."
   ]
  },
  {
   "cell_type": "code",
   "execution_count": 156,
   "id": "657d9edf",
   "metadata": {},
   "outputs": [
    {
     "name": "stderr",
     "output_type": "stream",
     "text": [
      "C:\\Users\\admin\\AppData\\Local\\Temp\\ipykernel_2832\\234483448.py:1: FutureWarning: The default value of regex will change from True to False in a future version.\n",
      "  df['km']=df['km'].astype(str).str.replace('\\.\\d+', '').str.replace('\\.', '').astype(int)\n"
     ]
    }
   ],
   "source": [
    "df['km']=df['km'].astype(str).str.replace('\\.\\d+', '').str.replace('\\.', '').astype(int)\n",
    "df['km']=df['km']*1000"
   ]
  },
  {
   "cell_type": "code",
   "execution_count": 157,
   "id": "a747af52",
   "metadata": {},
   "outputs": [
    {
     "data": {
      "text/plain": [
       "0       161000\n",
       "1       143000\n",
       "2        29000\n",
       "3        29000\n",
       "4       166000\n",
       "         ...  \n",
       "5335     38000\n",
       "5336     38000\n",
       "5337     54000\n",
       "5338     54000\n",
       "5339    118000\n",
       "Name: km, Length: 5340, dtype: int32"
      ]
     },
     "execution_count": 157,
     "metadata": {},
     "output_type": "execute_result"
    }
   ],
   "source": [
    "df['km']"
   ]
  },
  {
   "cell_type": "code",
   "execution_count": 158,
   "id": "ce29afee",
   "metadata": {},
   "outputs": [
    {
     "data": {
      "text/plain": [
       "<seaborn.axisgrid.FacetGrid at 0x2084380b3a0>"
      ]
     },
     "execution_count": 158,
     "metadata": {},
     "output_type": "execute_result"
    },
    {
     "data": {
      "image/png": "[encoded data removed]",
      "text/plain": [
       "<Figure size 360x360 with 1 Axes>"
      ]
     },
     "metadata": {
      "needs_background": "light"
     },
     "output_type": "display_data"
    }
   ],
   "source": [
    "sns.lmplot(x='yil', y='km', data=df)"
   ]
  },
  {
   "cell_type": "code",
   "execution_count": 159,
   "id": "bd534f43",
   "metadata": {},
   "outputs": [
    {
     "data": {
      "text/plain": [
       "<seaborn.axisgrid.FacetGrid at 0x208439270d0>"
      ]
     },
     "execution_count": 159,
     "metadata": {},
     "output_type": "execute_result"
    },
    {
     "data": {
      "image/png": "[encoded data removed]",
      "text/plain": [
       "<Figure size 360x360 with 1 Axes>"
      ]
     },
     "metadata": {
      "needs_background": "light"
     },
     "output_type": "display_data"
    }
   ],
   "source": [
    "sns.lmplot(x='yil', y='fiyat', data=df)"
   ]
  },
  {
   "cell_type": "code",
   "execution_count": 160,
   "id": "5517c950",
   "metadata": {},
   "outputs": [
    {
     "data": {
      "text/plain": [
       "<AxesSubplot:xlabel='vites', ylabel='count'>"
      ]
     },
     "execution_count": 160,
     "metadata": {},
     "output_type": "execute_result"
    },
    {
     "data": {
      "image/png": "[encoded data removed]",
      "text/plain": [
       "<Figure size 432x288 with 1 Axes>"
      ]
     },
     "metadata": {
      "needs_background": "light"
     },
     "output_type": "display_data"
    }
   ],
   "source": [
    "sns.countplot(x='vites', data=df)"
   ]
  },
  {
   "cell_type": "code",
   "execution_count": 161,
   "id": "5471915d",
   "metadata": {},
   "outputs": [
    {
     "data": {
      "text/plain": [
       "<AxesSubplot:xlabel='takas', ylabel='count'>"
      ]
     },
     "execution_count": 161,
     "metadata": {},
     "output_type": "execute_result"
    },
    {
     "data": {
      "image/png": "[encoded data removed]",
      "text/plain": [
       "<Figure size 432x288 with 1 Axes>"
      ]
     },
     "metadata": {
      "needs_background": "light"
     },
     "output_type": "display_data"
    }
   ],
   "source": [
    "sns.countplot(x='takas', data=df)"
   ]
  },
  {
   "cell_type": "markdown",
   "id": "ae3e55c8",
   "metadata": {},
   "source": [
    "## İşimize yaramayan kolonları verimizden temizliiyoruz"
   ]
  },
  {
   "cell_type": "code",
   "execution_count": 162,
   "id": "9a3eb015",
   "metadata": {},
   "outputs": [
    {
     "data": {
      "text/html": [
       "<div>\n",
       "<style scoped>\n",
       "    .dataframe tbody tr th:only-of-type {\n",
       "        vertical-align: middle;\n",
       "    }\n",
       "\n",
       "    .dataframe tbody tr th {\n",
       "        vertical-align: top;\n",
       "    }\n",
       "\n",
       "    .dataframe thead th {\n",
       "        text-align: right;\n",
       "    }\n",
       "</style>\n",
       "<table border=\"1\" class=\"dataframe\">\n",
       "  <thead>\n",
       "    <tr style=\"text-align: right;\">\n",
       "      <th></th>\n",
       "      <th>fiyat</th>\n",
       "      <th>seri</th>\n",
       "      <th>model</th>\n",
       "      <th>yil</th>\n",
       "      <th>yakit</th>\n",
       "      <th>vites</th>\n",
       "      <th>arac_durumu</th>\n",
       "      <th>km</th>\n",
       "      <th>kasa_tipi</th>\n",
       "      <th>motor_gucu</th>\n",
       "      <th>motor_hacmi</th>\n",
       "      <th>agir_hasar_kayitli</th>\n",
       "      <th>kimden</th>\n",
       "    </tr>\n",
       "  </thead>\n",
       "  <tbody>\n",
       "    <tr>\n",
       "      <th>0</th>\n",
       "      <td>434750</td>\n",
       "      <td>Egea</td>\n",
       "      <td>1.3 Multijet Easy Plus</td>\n",
       "      <td>2019.0</td>\n",
       "      <td>Dizel</td>\n",
       "      <td>Manuel</td>\n",
       "      <td>İkinci El</td>\n",
       "      <td>161000</td>\n",
       "      <td>Sedan</td>\n",
       "      <td>76 - 100 HP</td>\n",
       "      <td>1300 cm3' e kadar</td>\n",
       "      <td>Hayır</td>\n",
       "      <td>Galeriden</td>\n",
       "    </tr>\n",
       "    <tr>\n",
       "      <th>1</th>\n",
       "      <td>347750</td>\n",
       "      <td>Egea</td>\n",
       "      <td>1.3 Multijet Urban</td>\n",
       "      <td>2015.0</td>\n",
       "      <td>Dizel</td>\n",
       "      <td>Manuel</td>\n",
       "      <td>İkinci El</td>\n",
       "      <td>143000</td>\n",
       "      <td>Sedan</td>\n",
       "      <td>95 hp</td>\n",
       "      <td>1248 cc</td>\n",
       "      <td>Evet</td>\n",
       "      <td>Galeriden</td>\n",
       "    </tr>\n",
       "    <tr>\n",
       "      <th>2</th>\n",
       "      <td>530000</td>\n",
       "      <td>Egea</td>\n",
       "      <td>1.4 Fire Mirror</td>\n",
       "      <td>2020.0</td>\n",
       "      <td>Benzin   LPG</td>\n",
       "      <td>Manuel</td>\n",
       "      <td>İkinci El</td>\n",
       "      <td>29000</td>\n",
       "      <td>Sedan</td>\n",
       "      <td>95 hp</td>\n",
       "      <td>1368 cc</td>\n",
       "      <td>Hayır</td>\n",
       "      <td>Galeriden</td>\n",
       "    </tr>\n",
       "    <tr>\n",
       "      <th>3</th>\n",
       "      <td>530000</td>\n",
       "      <td>Egea</td>\n",
       "      <td>1.4 Fire Mirror</td>\n",
       "      <td>2020.0</td>\n",
       "      <td>Benzin   LPG</td>\n",
       "      <td>Manuel</td>\n",
       "      <td>İkinci El</td>\n",
       "      <td>29000</td>\n",
       "      <td>Sedan</td>\n",
       "      <td>95 hp</td>\n",
       "      <td>1368 cc</td>\n",
       "      <td>Hayır</td>\n",
       "      <td>Galeriden</td>\n",
       "    </tr>\n",
       "    <tr>\n",
       "      <th>4</th>\n",
       "      <td>477000</td>\n",
       "      <td>Egea</td>\n",
       "      <td>1.6 Multijet Comfort</td>\n",
       "      <td>2017.0</td>\n",
       "      <td>Dizel</td>\n",
       "      <td>Yarı Otomatik</td>\n",
       "      <td>İkinci El</td>\n",
       "      <td>166000</td>\n",
       "      <td>Sedan</td>\n",
       "      <td>120 hp</td>\n",
       "      <td>1598 cc</td>\n",
       "      <td>Hayır</td>\n",
       "      <td>Sahibinden</td>\n",
       "    </tr>\n",
       "  </tbody>\n",
       "</table>\n",
       "</div>"
      ],
      "text/plain": [
       "    fiyat     seri                      model     yil           yakit  \\\n",
       "0  434750    Egea     1.3 Multijet Easy Plus   2019.0           Dizel   \n",
       "1  347750    Egea         1.3 Multijet Urban   2015.0           Dizel   \n",
       "2  530000    Egea            1.4 Fire Mirror   2020.0    Benzin   LPG   \n",
       "3  530000    Egea            1.4 Fire Mirror   2020.0    Benzin   LPG   \n",
       "4  477000    Egea       1.6 Multijet Comfort   2017.0           Dizel   \n",
       "\n",
       "             vites  arac_durumu      km kasa_tipi     motor_gucu  \\\n",
       "0           Manuel    İkinci El  161000     Sedan    76 - 100 HP   \n",
       "1           Manuel    İkinci El  143000     Sedan          95 hp   \n",
       "2           Manuel    İkinci El   29000     Sedan          95 hp   \n",
       "3           Manuel    İkinci El   29000     Sedan          95 hp   \n",
       "4    Yarı Otomatik    İkinci El  166000     Sedan         120 hp   \n",
       "\n",
       "           motor_hacmi agir_hasar_kayitli        kimden  \n",
       "0    1300 cm3' e kadar              Hayır     Galeriden  \n",
       "1              1248 cc               Evet     Galeriden  \n",
       "2              1368 cc              Hayır     Galeriden  \n",
       "3              1368 cc              Hayır     Galeriden  \n",
       "4              1598 cc              Hayır    Sahibinden  "
      ]
     },
     "execution_count": 162,
     "metadata": {},
     "output_type": "execute_result"
    }
   ],
   "source": [
    "df.drop(\"adres\", axis = 1, inplace = True)\n",
    "df.drop(\"ilan_no\", axis = 1, inplace = True)\n",
    "df.drop(\"ilan_tarihi\", axis = 1, inplace = True)\n",
    "df.drop(\"garanti\", axis = 1, inplace = True)\n",
    "df.drop(\"plaka_uyruk\", axis = 1, inplace = True)\n",
    "df.drop(\"goruntulu_arama_ile_gorulebilir\", axis = 1, inplace = True)\n",
    "df.drop(\"takas\", axis = 1, inplace = True)\n",
    "df.drop(\"cekis\", axis = 1, inplace = True)\n",
    "df.drop(\"renk\", axis = 1, inplace = True)\n",
    "df.drop(\"marka\", axis = 1, inplace = True)\n",
    "df.head()"
   ]
  },
  {
   "cell_type": "code",
   "execution_count": 163,
   "id": "17125db9",
   "metadata": {},
   "outputs": [
    {
     "name": "stdout",
     "output_type": "stream",
     "text": [
      "Fiyat dışı veriler:  kimden, agir_hasar_kayitli, yil, model, motor_hacmi, km, seri, vites, kasa_tipi, motor_gucu, yakit, arac_durumu \n",
      "Sayısal veriler:  yil, km, fiyat \n",
      "Diğer veriler:  kimden, agir_hasar_kayitli, model, motor_hacmi, seri, vites, kasa_tipi, motor_gucu, yakit, arac_durumu\n"
     ]
    }
   ],
   "source": [
    "fiyat_haric=set(df.columns)-set(['fiyat'])\n",
    "sayisal=set(df.describe().columns)\n",
    "diger=(fiyat_haric)-(sayisal)\n",
    "\n",
    "print('Fiyat dışı veriler: ',\", \".join(fiyat_haric), '\\nSayısal veriler: ',\", \".join(sayisal), '\\nDiğer veriler: ',\", \".join(diger))"
   ]
  },
  {
   "cell_type": "code",
   "execution_count": 164,
   "id": "88fe6b0d",
   "metadata": {},
   "outputs": [],
   "source": [
    "df.to_excel(\"egeatemiz.xlsx\")"
   ]
  },
  {
   "cell_type": "code",
   "execution_count": 165,
   "id": "791b3e26",
   "metadata": {},
   "outputs": [],
   "source": [
    "df = pd.read_excel(\"egeatemiz.xlsx\")"
   ]
  },
  {
   "cell_type": "code",
   "execution_count": 166,
   "id": "7b9d69ce",
   "metadata": {},
   "outputs": [],
   "source": [
    "df.drop(\"Unnamed: 0\", axis = 1, inplace = True)"
   ]
  },
  {
   "cell_type": "markdown",
   "id": "62d598d7",
   "metadata": {},
   "source": [
    "# Sayısal değerlere çevirmeye başlıyoruz"
   ]
  },
  {
   "cell_type": "code",
   "execution_count": 167,
   "id": "fa192347",
   "metadata": {},
   "outputs": [],
   "source": [
    "from sklearn import preprocessing \n",
    "le = preprocessing.LabelEncoder()"
   ]
  },
  {
   "cell_type": "code",
   "execution_count": 168,
   "id": "35663703",
   "metadata": {},
   "outputs": [
    {
     "data": {
      "text/plain": [
       "array(['2015', '2016', '2017', '2018', '2019', '2020', '2021', '2022'],\n",
       "      dtype=object)"
      ]
     },
     "execution_count": 168,
     "metadata": {},
     "output_type": "execute_result"
    }
   ],
   "source": [
    "df['yil'] = df['yil'].astype(str)\n",
    "df[\"yil\"] = le.fit_transform(df.yil)\n",
    "le.classes_"
   ]
  },
  {
   "cell_type": "code",
   "execution_count": 169,
   "id": "6ee559d9",
   "metadata": {},
   "outputs": [
    {
     "data": {
      "text/plain": [
       "array([4, 0, 5, 2, 3, 7, 6, 1])"
      ]
     },
     "execution_count": 169,
     "metadata": {},
     "output_type": "execute_result"
    }
   ],
   "source": [
    "df.yil.unique()"
   ]
  },
  {
   "cell_type": "code",
   "execution_count": null,
   "id": "08bc02e1",
   "metadata": {},
   "outputs": [],
   "source": []
  },
  {
   "cell_type": "code",
   "execution_count": null,
   "id": "86eefada",
   "metadata": {},
   "outputs": [],
   "source": []
  },
  {
   "cell_type": "code",
   "execution_count": null,
   "id": "8739219c",
   "metadata": {},
   "outputs": [],
   "source": []
  },
  {
   "cell_type": "code",
   "execution_count": 170,
   "id": "f3915de1",
   "metadata": {},
   "outputs": [
    {
     "data": {
      "text/html": [
       "<div>\n",
       "<style scoped>\n",
       "    .dataframe tbody tr th:only-of-type {\n",
       "        vertical-align: middle;\n",
       "    }\n",
       "\n",
       "    .dataframe tbody tr th {\n",
       "        vertical-align: top;\n",
       "    }\n",
       "\n",
       "    .dataframe thead th {\n",
       "        text-align: right;\n",
       "    }\n",
       "</style>\n",
       "<table border=\"1\" class=\"dataframe\">\n",
       "  <thead>\n",
       "    <tr style=\"text-align: right;\">\n",
       "      <th></th>\n",
       "      <th>fiyat</th>\n",
       "      <th>seri</th>\n",
       "      <th>model</th>\n",
       "      <th>yil</th>\n",
       "      <th>yakit</th>\n",
       "      <th>vites</th>\n",
       "      <th>arac_durumu</th>\n",
       "      <th>km</th>\n",
       "      <th>kasa_tipi</th>\n",
       "      <th>motor_gucu</th>\n",
       "      <th>motor_hacmi</th>\n",
       "      <th>agir_hasar_kayitli</th>\n",
       "      <th>kimden</th>\n",
       "    </tr>\n",
       "  </thead>\n",
       "  <tbody>\n",
       "    <tr>\n",
       "      <th>0</th>\n",
       "      <td>434750</td>\n",
       "      <td>0</td>\n",
       "      <td>0</td>\n",
       "      <td>4</td>\n",
       "      <td>0</td>\n",
       "      <td>0</td>\n",
       "      <td>0</td>\n",
       "      <td>161000</td>\n",
       "      <td>0</td>\n",
       "      <td>0</td>\n",
       "      <td>0</td>\n",
       "      <td>0</td>\n",
       "      <td>0</td>\n",
       "    </tr>\n",
       "    <tr>\n",
       "      <th>1</th>\n",
       "      <td>347750</td>\n",
       "      <td>0</td>\n",
       "      <td>1</td>\n",
       "      <td>0</td>\n",
       "      <td>0</td>\n",
       "      <td>0</td>\n",
       "      <td>0</td>\n",
       "      <td>143000</td>\n",
       "      <td>0</td>\n",
       "      <td>1</td>\n",
       "      <td>1</td>\n",
       "      <td>1</td>\n",
       "      <td>0</td>\n",
       "    </tr>\n",
       "    <tr>\n",
       "      <th>2</th>\n",
       "      <td>530000</td>\n",
       "      <td>0</td>\n",
       "      <td>2</td>\n",
       "      <td>5</td>\n",
       "      <td>1</td>\n",
       "      <td>0</td>\n",
       "      <td>0</td>\n",
       "      <td>29000</td>\n",
       "      <td>0</td>\n",
       "      <td>1</td>\n",
       "      <td>2</td>\n",
       "      <td>0</td>\n",
       "      <td>0</td>\n",
       "    </tr>\n",
       "    <tr>\n",
       "      <th>3</th>\n",
       "      <td>530000</td>\n",
       "      <td>0</td>\n",
       "      <td>2</td>\n",
       "      <td>5</td>\n",
       "      <td>1</td>\n",
       "      <td>0</td>\n",
       "      <td>0</td>\n",
       "      <td>29000</td>\n",
       "      <td>0</td>\n",
       "      <td>1</td>\n",
       "      <td>2</td>\n",
       "      <td>0</td>\n",
       "      <td>0</td>\n",
       "    </tr>\n",
       "    <tr>\n",
       "      <th>4</th>\n",
       "      <td>477000</td>\n",
       "      <td>0</td>\n",
       "      <td>3</td>\n",
       "      <td>2</td>\n",
       "      <td>0</td>\n",
       "      <td>1</td>\n",
       "      <td>0</td>\n",
       "      <td>166000</td>\n",
       "      <td>0</td>\n",
       "      <td>2</td>\n",
       "      <td>3</td>\n",
       "      <td>0</td>\n",
       "      <td>1</td>\n",
       "    </tr>\n",
       "    <tr>\n",
       "      <th>...</th>\n",
       "      <td>...</td>\n",
       "      <td>...</td>\n",
       "      <td>...</td>\n",
       "      <td>...</td>\n",
       "      <td>...</td>\n",
       "      <td>...</td>\n",
       "      <td>...</td>\n",
       "      <td>...</td>\n",
       "      <td>...</td>\n",
       "      <td>...</td>\n",
       "      <td>...</td>\n",
       "      <td>...</td>\n",
       "      <td>...</td>\n",
       "    </tr>\n",
       "    <tr>\n",
       "      <th>5335</th>\n",
       "      <td>499750</td>\n",
       "      <td>0</td>\n",
       "      <td>9</td>\n",
       "      <td>5</td>\n",
       "      <td>2</td>\n",
       "      <td>0</td>\n",
       "      <td>0</td>\n",
       "      <td>38000</td>\n",
       "      <td>0</td>\n",
       "      <td>1</td>\n",
       "      <td>2</td>\n",
       "      <td>0</td>\n",
       "      <td>0</td>\n",
       "    </tr>\n",
       "    <tr>\n",
       "      <th>5336</th>\n",
       "      <td>499750</td>\n",
       "      <td>0</td>\n",
       "      <td>9</td>\n",
       "      <td>5</td>\n",
       "      <td>2</td>\n",
       "      <td>0</td>\n",
       "      <td>0</td>\n",
       "      <td>38000</td>\n",
       "      <td>0</td>\n",
       "      <td>1</td>\n",
       "      <td>2</td>\n",
       "      <td>0</td>\n",
       "      <td>0</td>\n",
       "    </tr>\n",
       "    <tr>\n",
       "      <th>5337</th>\n",
       "      <td>495000</td>\n",
       "      <td>0</td>\n",
       "      <td>9</td>\n",
       "      <td>5</td>\n",
       "      <td>2</td>\n",
       "      <td>0</td>\n",
       "      <td>0</td>\n",
       "      <td>54000</td>\n",
       "      <td>1</td>\n",
       "      <td>1</td>\n",
       "      <td>2</td>\n",
       "      <td>0</td>\n",
       "      <td>1</td>\n",
       "    </tr>\n",
       "    <tr>\n",
       "      <th>5338</th>\n",
       "      <td>495000</td>\n",
       "      <td>0</td>\n",
       "      <td>9</td>\n",
       "      <td>5</td>\n",
       "      <td>2</td>\n",
       "      <td>0</td>\n",
       "      <td>0</td>\n",
       "      <td>54000</td>\n",
       "      <td>1</td>\n",
       "      <td>1</td>\n",
       "      <td>2</td>\n",
       "      <td>0</td>\n",
       "      <td>1</td>\n",
       "    </tr>\n",
       "    <tr>\n",
       "      <th>5339</th>\n",
       "      <td>429500</td>\n",
       "      <td>0</td>\n",
       "      <td>5</td>\n",
       "      <td>2</td>\n",
       "      <td>0</td>\n",
       "      <td>0</td>\n",
       "      <td>0</td>\n",
       "      <td>118000</td>\n",
       "      <td>0</td>\n",
       "      <td>1</td>\n",
       "      <td>1</td>\n",
       "      <td>0</td>\n",
       "      <td>0</td>\n",
       "    </tr>\n",
       "  </tbody>\n",
       "</table>\n",
       "<p>5340 rows × 13 columns</p>\n",
       "</div>"
      ],
      "text/plain": [
       "       fiyat  seri  model  yil  yakit  vites  arac_durumu      km  kasa_tipi  \\\n",
       "0     434750     0      0    4      0      0            0  161000          0   \n",
       "1     347750     0      1    0      0      0            0  143000          0   \n",
       "2     530000     0      2    5      1      0            0   29000          0   \n",
       "3     530000     0      2    5      1      0            0   29000          0   \n",
       "4     477000     0      3    2      0      1            0  166000          0   \n",
       "...      ...   ...    ...  ...    ...    ...          ...     ...        ...   \n",
       "5335  499750     0      9    5      2      0            0   38000          0   \n",
       "5336  499750     0      9    5      2      0            0   38000          0   \n",
       "5337  495000     0      9    5      2      0            0   54000          1   \n",
       "5338  495000     0      9    5      2      0            0   54000          1   \n",
       "5339  429500     0      5    2      0      0            0  118000          0   \n",
       "\n",
       "      motor_gucu  motor_hacmi  agir_hasar_kayitli  kimden  \n",
       "0              0            0                   0       0  \n",
       "1              1            1                   1       0  \n",
       "2              1            2                   0       0  \n",
       "3              1            2                   0       0  \n",
       "4              2            3                   0       1  \n",
       "...          ...          ...                 ...     ...  \n",
       "5335           1            2                   0       0  \n",
       "5336           1            2                   0       0  \n",
       "5337           1            2                   0       1  \n",
       "5338           1            2                   0       1  \n",
       "5339           1            1                   0       0  \n",
       "\n",
       "[5340 rows x 13 columns]"
      ]
     },
     "execution_count": 170,
     "metadata": {},
     "output_type": "execute_result"
    }
   ],
   "source": [
    "makine={}\n",
    "def makine_kodu(makine2):\n",
    "    sozluk={}\n",
    "    for i in range(len(makine2)):\n",
    "        sozluk[makine2[i]]=i\n",
    "    return sozluk\n",
    "\n",
    "veri_makine=df.copy()\n",
    "for j in diger:\n",
    "    makine[j]=makine_kodu(df[j].unique())\n",
    "    veri_makine[j].replace(makine[j], inplace=True)\n",
    "\n",
    "veri_makine"
   ]
  },
  {
   "cell_type": "code",
   "execution_count": 171,
   "id": "34fa5f65",
   "metadata": {},
   "outputs": [
    {
     "data": {
      "text/plain": [
       "{'kimden': {'  Galeriden': 0, '  Sahibinden': 1, '  Yetkili Bayiden': 2},\n",
       " 'agir_hasar_kayitli': {'  Hayır': 0, '  Evet': 1, '  Belirtilmemiş': 2},\n",
       " 'model': {'  1.3 Multijet Easy Plus ': 0,\n",
       "  '  1.3 Multijet Urban ': 1,\n",
       "  '  1.4 Fire Mirror ': 2,\n",
       "  '  1.6 Multijet Comfort ': 3,\n",
       "  '  1.6 Multijet Urban Plus ': 4,\n",
       "  '  1.3 Multijet Easy ': 5,\n",
       "  '  1.6 E-Torq Urban Plus ': 6,\n",
       "  '  1.4 Fire Easy Plus ': 7,\n",
       "  '  1.6 Multijet Easy  ': 8,\n",
       "  '  1.4 Fire Urban Plus ': 9,\n",
       "  '  1.4 Fire Urban ': 10,\n",
       "  '  1.3 Multijet Street  ': 11,\n",
       "  '  1.4 Fire Street ': 12,\n",
       "  '  1.4 Fire Easy ': 13,\n",
       "  '  1.6 E-Torq Urban ': 14,\n",
       "  '  1.6 Multijet Mirror ': 15,\n",
       "  '  1.6 Multijet Urban ': 16,\n",
       "  '  1.4 Fire Lounge ': 17,\n",
       "  '  1.3 Multijet Easy Stil ': 18,\n",
       "  '  1.5 T4 Hibrit Urban ': 19,\n",
       "  '  1.6 Multijet Lounge Plus ': 20,\n",
       "  '  1.4 Fire Lounge Plus ': 21,\n",
       "  '  1.6 Multijet Lounge ': 22,\n",
       "  '  1.6 E-Torq Lounge ': 23,\n",
       "  '  1.6 Multijet Sport ': 24,\n",
       "  '  1.3 Multijet Urban Plus ': 25,\n",
       "  '  1.0 Firefly Lounge ': 26,\n",
       "  '  1.6 E-Torq Easy ': 27,\n",
       "  '  1.3 Multijet Mirror ': 28,\n",
       "  '  1.6 E-Torq Lounge Plus ': 29,\n",
       "  '  1.4 Fire Easy Stil ': 30,\n",
       "  '  1.6 E-Torq Mirror ': 31,\n",
       "  '  1.6 Multijet Easy Plus ': 32,\n",
       "  '  1.0 Firefly Urban ': 33},\n",
       " 'motor_hacmi': {\"  1300 cm3' e kadar\": 0,\n",
       "  '  1248 cc': 1,\n",
       "  '  1368 cc': 2,\n",
       "  '  1598 cc': 3,\n",
       "  '  1301 - 1600 cm3': 4,\n",
       "  '  1601 - 1800 cm3': 5,\n",
       "  '  1469 cc': 6,\n",
       "  '  999 cc': 7,\n",
       "  '  2001 - 2500 cm3': 8},\n",
       " 'seri': {'  Egea ': 0},\n",
       " 'vites': {'  Manuel': 0, '  Yarı Otomatik': 1, '  Otomatik': 2},\n",
       " 'kasa_tipi': {'  Sedan': 0, '  Hatchback 5 kapı': 1, '  Station Wagon': 2},\n",
       " 'motor_gucu': {'  76 - 100 HP': 0,\n",
       "  '  95 hp': 1,\n",
       "  '  120 hp': 2,\n",
       "  '  110 hp': 3,\n",
       "  '  130 hp': 4,\n",
       "  '  101 - 125 HP': 5,\n",
       "  '  100 hp': 6,\n",
       "  '  126 - 150 HP': 7},\n",
       " 'yakit': {'  Dizel': 0, '  Benzin   LPG': 1, '  Benzin': 2, '  Hybrid': 3},\n",
       " 'arac_durumu': {'  İkinci El': 0}}"
      ]
     },
     "execution_count": 171,
     "metadata": {},
     "output_type": "execute_result"
    }
   ],
   "source": [
    "makine"
   ]
  },
  {
   "cell_type": "markdown",
   "id": "1079ae91",
   "metadata": {},
   "source": []
  },
  {
   "cell_type": "code",
   "execution_count": 172,
   "id": "863ee5b3",
   "metadata": {},
   "outputs": [
    {
     "data": {
      "text/html": [
       "<div>\n",
       "<style scoped>\n",
       "    .dataframe tbody tr th:only-of-type {\n",
       "        vertical-align: middle;\n",
       "    }\n",
       "\n",
       "    .dataframe tbody tr th {\n",
       "        vertical-align: top;\n",
       "    }\n",
       "\n",
       "    .dataframe thead th {\n",
       "        text-align: right;\n",
       "    }\n",
       "</style>\n",
       "<table border=\"1\" class=\"dataframe\">\n",
       "  <thead>\n",
       "    <tr style=\"text-align: right;\">\n",
       "      <th></th>\n",
       "      <th>fiyat</th>\n",
       "      <th>yil</th>\n",
       "      <th>km</th>\n",
       "    </tr>\n",
       "  </thead>\n",
       "  <tbody>\n",
       "    <tr>\n",
       "      <th>fiyat</th>\n",
       "      <td>1.000000</td>\n",
       "      <td>0.601135</td>\n",
       "      <td>-0.628652</td>\n",
       "    </tr>\n",
       "    <tr>\n",
       "      <th>yil</th>\n",
       "      <td>0.601135</td>\n",
       "      <td>1.000000</td>\n",
       "      <td>-0.672523</td>\n",
       "    </tr>\n",
       "    <tr>\n",
       "      <th>km</th>\n",
       "      <td>-0.628652</td>\n",
       "      <td>-0.672523</td>\n",
       "      <td>1.000000</td>\n",
       "    </tr>\n",
       "  </tbody>\n",
       "</table>\n",
       "</div>"
      ],
      "text/plain": [
       "          fiyat       yil        km\n",
       "fiyat  1.000000  0.601135 -0.628652\n",
       "yil    0.601135  1.000000 -0.672523\n",
       "km    -0.628652 -0.672523  1.000000"
      ]
     },
     "execution_count": 172,
     "metadata": {},
     "output_type": "execute_result"
    }
   ],
   "source": [
    "df.corr().sort_values([\"fiyat\"], ascending=False)"
   ]
  },
  {
   "cell_type": "code",
   "execution_count": 173,
   "id": "1a192503",
   "metadata": {},
   "outputs": [
    {
     "data": {
      "text/plain": [
       "<AxesSubplot:>"
      ]
     },
     "execution_count": 173,
     "metadata": {},
     "output_type": "execute_result"
    },
    {
     "data": {
      "image/png": "[encoded data removed]",
      "text/plain": [
       "<Figure size 504x288 with 2 Axes>"
      ]
     },
     "metadata": {
      "needs_background": "light"
     },
     "output_type": "display_data"
    }
   ],
   "source": [
    "plt.subplots(figsize=(7,4))\n",
    "sns.heatmap(df.corr())"
   ]
  },
  {
   "cell_type": "markdown",
   "id": "ab49f508",
   "metadata": {},
   "source": [
    "# Bağımlı ve Bağımsız değişkenleri ayırdık"
   ]
  },
  {
   "cell_type": "code",
   "execution_count": 174,
   "id": "db5cebc6",
   "metadata": {},
   "outputs": [],
   "source": [
    "X = veri_makine.drop([\"fiyat\"], axis = 1)\n",
    "y = veri_makine[\"fiyat\"]"
   ]
  },
  {
   "cell_type": "markdown",
   "id": "6b40b149",
   "metadata": {},
   "source": [
    "# Eğitim ve Test verisinin ayrılması"
   ]
  },
  {
   "cell_type": "code",
   "execution_count": 175,
   "id": "cdec5753",
   "metadata": {},
   "outputs": [],
   "source": [
    "import xgboost as xgb\n",
    "from xgboost import XGBRegressor\n",
    "from sklearn.model_selection import train_test_split, GridSearchCV,cross_val_score\n",
    "from sklearn.metrics import mean_squared_error, r2_score, accuracy_score\n",
    "from sklearn import model_selection\n",
    "from sklearn.ensemble import ExtraTreesRegressor"
   ]
  },
  {
   "cell_type": "code",
   "execution_count": 176,
   "id": "c5f2afe4",
   "metadata": {},
   "outputs": [
    {
     "name": "stdout",
     "output_type": "stream",
     "text": [
      "[0.         0.10390321 0.33863206 0.03284835 0.13559592 0.\n",
      " 0.23591901 0.02164443 0.05185145 0.03854444 0.02229067 0.01877048]\n"
     ]
    },
    {
     "data": {
      "image/png": "[encoded data removed]",
      "text/plain": [
       "<Figure size 432x288 with 1 Axes>"
      ]
     },
     "metadata": {
      "needs_background": "light"
     },
     "output_type": "display_data"
    }
   ],
   "source": [
    "model = ExtraTreesRegressor()\n",
    "model.fit(X,y)\n",
    "\n",
    "print(model.feature_importances_)\n",
    "\n",
    "#plot graph of feature importances for better visualization\n",
    "feat_importances = pd.Series(model.feature_importances_, index=X.columns)\n",
    "feat_importances.nlargest(10).plot(kind='barh')\n",
    "plt.show()"
   ]
  },
  {
   "cell_type": "code",
   "execution_count": 177,
   "id": "a0a41e24",
   "metadata": {},
   "outputs": [],
   "source": [
    "from sklearn.model_selection import cross_val_score\n",
    "from sklearn import metrics\n",
    "from sklearn.metrics import mean_absolute_error\n",
    "from sklearn.metrics import mean_squared_error"
   ]
  },
  {
   "cell_type": "code",
   "execution_count": 178,
   "id": "ae1ab3cf",
   "metadata": {},
   "outputs": [],
   "source": [
    "from sklearn.model_selection import train_test_split\n",
    "X_train, X_test, y_train, y_test = train_test_split(X, y, test_size=0.3, random_state=0)"
   ]
  },
  {
   "cell_type": "code",
   "execution_count": 179,
   "id": "24df2ee0",
   "metadata": {},
   "outputs": [
    {
     "name": "stdout",
     "output_type": "stream",
     "text": [
      "Decision Tree Score on Training set is 0.995957181575032\n",
      "Decision Tree Score on Test Set is 0.9945907657137588\n",
      "[0.98446924 0.99282642 0.99169112 0.98871163 0.9932205 ]\n",
      "Accuracy: 99.02 %\n",
      "Standard Deviation: 0.33 %\n",
      "Mean Absolute Error: 1308.4048345464173\n",
      "Mean Squared Error: 28719839.9416492\n",
      "RMSE: 5359.0894694574\n",
      "The r2_score is 0.9945907657137588\n"
     ]
    },
    {
     "name": "stderr",
     "output_type": "stream",
     "text": [
      "D:\\ProgramDosyalaari\\anaconda\\lib\\site-packages\\seaborn\\distributions.py:2619: FutureWarning: `distplot` is a deprecated function and will be removed in a future version. Please adapt your code to use either `displot` (a figure-level function with similar flexibility) or `histplot` (an axes-level function for histograms).\n",
      "  warnings.warn(msg, FutureWarning)\n"
     ]
    },
    {
     "data": {
      "image/png": "[encoded data removed]",
      "text/plain": [
       "<Figure size 432x288 with 1 Axes>"
      ]
     },
     "metadata": {
      "needs_background": "light"
     },
     "output_type": "display_data"
    },
    {
     "data": {
      "image/png": "[encoded data removed]",
      "text/plain": [
       "<Figure size 432x288 with 1 Axes>"
      ]
     },
     "metadata": {
      "needs_background": "light"
     },
     "output_type": "display_data"
    }
   ],
   "source": [
    "#Decision Tree Regressor\n",
    "from sklearn.tree import DecisionTreeRegressor\n",
    "dt_reg = DecisionTreeRegressor(random_state = 0)\n",
    "dt_reg.fit(X_train, y_train)\n",
    "y_pred=dt_reg.predict(X_test)\n",
    "\n",
    "print(\"Decision Tree Score on Training set is\",dt_reg.score(X_train, y_train))#Training Accuracy\n",
    "print(\"Decision Tree Score on Test Set is\",dt_reg.score(X_test, y_test))#Testing Accuracy\n",
    "\n",
    "accuracies = cross_val_score(dt_reg, X_train, y_train, cv = 5)\n",
    "print(accuracies)\n",
    "print(\"Accuracy: {:.2f} %\".format(accuracies.mean()*100))\n",
    "print(\"Standard Deviation: {:.2f} %\".format(accuracies.std()*100))\n",
    "\n",
    "mae=mean_absolute_error(y_pred, y_test)\n",
    "print(\"Mean Absolute Error:\" , mae)\n",
    "\n",
    "mse=mean_squared_error(y_test, y_pred)\n",
    "print(\"Mean Squared Error:\" , mse)\n",
    "\n",
    "print('RMSE:', np.sqrt(metrics.mean_squared_error(y_test, y_pred)))\n",
    "\n",
    "print('The r2_score is', metrics.r2_score(y_test, y_pred))\n",
    "\n",
    "sns.distplot(y_test-y_pred)\n",
    "plt.show()\n",
    "\n",
    "plt.scatter(y_test, y_pred, alpha = 0.5)\n",
    "plt.xlabel(\"y_test\")\n",
    "plt.ylabel(\"y_pred\")\n",
    "plt.show()"
   ]
  },
  {
   "cell_type": "code",
   "execution_count": 180,
   "id": "7ca77992",
   "metadata": {},
   "outputs": [
    {
     "name": "stderr",
     "output_type": "stream",
     "text": [
      "D:\\ProgramDosyalaari\\anaconda\\lib\\site-packages\\sklearn\\ensemble\\_forest.py:413: FutureWarning: `max_features='auto'` has been deprecated in 1.1 and will be removed in 1.3. To keep the past behaviour, explicitly set `max_features=1.0` or remove this parameter as it is also the default value for RandomForestRegressors and ExtraTreesRegressors.\n",
      "  warn(\n"
     ]
    },
    {
     "name": "stdout",
     "output_type": "stream",
     "text": [
      "Random Forest Score on Training set is 0.9763196609972478\n",
      "Random Forest Score on Test Set is 0.9647867434265164\n"
     ]
    },
    {
     "name": "stderr",
     "output_type": "stream",
     "text": [
      "D:\\ProgramDosyalaari\\anaconda\\lib\\site-packages\\sklearn\\ensemble\\_forest.py:413: FutureWarning: `max_features='auto'` has been deprecated in 1.1 and will be removed in 1.3. To keep the past behaviour, explicitly set `max_features=1.0` or remove this parameter as it is also the default value for RandomForestRegressors and ExtraTreesRegressors.\n",
      "  warn(\n",
      "D:\\ProgramDosyalaari\\anaconda\\lib\\site-packages\\sklearn\\ensemble\\_forest.py:413: FutureWarning: `max_features='auto'` has been deprecated in 1.1 and will be removed in 1.3. To keep the past behaviour, explicitly set `max_features=1.0` or remove this parameter as it is also the default value for RandomForestRegressors and ExtraTreesRegressors.\n",
      "  warn(\n",
      "D:\\ProgramDosyalaari\\anaconda\\lib\\site-packages\\sklearn\\ensemble\\_forest.py:413: FutureWarning: `max_features='auto'` has been deprecated in 1.1 and will be removed in 1.3. To keep the past behaviour, explicitly set `max_features=1.0` or remove this parameter as it is also the default value for RandomForestRegressors and ExtraTreesRegressors.\n",
      "  warn(\n",
      "D:\\ProgramDosyalaari\\anaconda\\lib\\site-packages\\sklearn\\ensemble\\_forest.py:413: FutureWarning: `max_features='auto'` has been deprecated in 1.1 and will be removed in 1.3. To keep the past behaviour, explicitly set `max_features=1.0` or remove this parameter as it is also the default value for RandomForestRegressors and ExtraTreesRegressors.\n",
      "  warn(\n",
      "D:\\ProgramDosyalaari\\anaconda\\lib\\site-packages\\sklearn\\ensemble\\_forest.py:413: FutureWarning: `max_features='auto'` has been deprecated in 1.1 and will be removed in 1.3. To keep the past behaviour, explicitly set `max_features=1.0` or remove this parameter as it is also the default value for RandomForestRegressors and ExtraTreesRegressors.\n",
      "  warn(\n"
     ]
    },
    {
     "name": "stdout",
     "output_type": "stream",
     "text": [
      "[0.94836295 0.94755428 0.95234634 0.95437059 0.95304468]\n",
      "Accuracy: 95.11 %\n",
      "Standard Deviation: 0.27 %\n",
      "Mean Absolute Error: 8988.75871669611\n",
      "Mean Squared Error: 186961599.20213464\n",
      "RMSE: 13673.390186860559\n",
      "The r2_score is 0.9647867434265164\n"
     ]
    },
    {
     "name": "stderr",
     "output_type": "stream",
     "text": [
      "D:\\ProgramDosyalaari\\anaconda\\lib\\site-packages\\seaborn\\distributions.py:2619: FutureWarning: `distplot` is a deprecated function and will be removed in a future version. Please adapt your code to use either `displot` (a figure-level function with similar flexibility) or `histplot` (an axes-level function for histograms).\n",
      "  warnings.warn(msg, FutureWarning)\n"
     ]
    },
    {
     "data": {
      "image/png": "[encoded data removed]",
      "text/plain": [
       "<Figure size 432x288 with 1 Axes>"
      ]
     },
     "metadata": {
      "needs_background": "light"
     },
     "output_type": "display_data"
    },
    {
     "data": {
      "image/png": "[encoded data removed]",
      "text/plain": [
       "<Figure size 432x288 with 1 Axes>"
      ]
     },
     "metadata": {
      "needs_background": "light"
     },
     "output_type": "display_data"
    }
   ],
   "source": [
    "#Random Forest Regression\n",
    "from sklearn.ensemble import RandomForestRegressor\n",
    "rf_reg = RandomForestRegressor(n_estimators=400,min_samples_split=15,min_samples_leaf=2,\n",
    "max_features='auto', max_depth=30)\n",
    "rf_reg.fit(X_train, y_train)\n",
    "y_pred=rf_reg.predict(X_test)\n",
    "\n",
    "print(\"Random Forest Score on Training set is\",rf_reg.score(X_train, y_train))#Training Accuracy\n",
    "print(\"Random Forest Score on Test Set is\",rf_reg.score(X_test, y_test))#Testing Accuracy\n",
    "\n",
    "accuracies = cross_val_score(rf_reg, X_train, y_train, cv = 5)\n",
    "print(accuracies)\n",
    "print(\"Accuracy: {:.2f} %\".format(accuracies.mean()*100))\n",
    "print(\"Standard Deviation: {:.2f} %\".format(accuracies.std()*100))\n",
    "\n",
    "mae=mean_absolute_error(y_pred, y_test)\n",
    "print(\"Mean Absolute Error:\" , mae)\n",
    "\n",
    "mse=mean_squared_error(y_test, y_pred)\n",
    "print(\"Mean Squared Error:\" , mse)\n",
    "\n",
    "print('RMSE:', np.sqrt(metrics.mean_squared_error(y_test, y_pred)))\n",
    "\n",
    "print('The r2_score is', metrics.r2_score(y_test, y_pred))\n",
    "\n",
    "sns.distplot(y_test-y_pred)\n",
    "plt.show()\n",
    "\n",
    "plt.scatter(y_test, y_pred, alpha = 0.5)\n",
    "plt.xlabel(\"y_test\")\n",
    "plt.ylabel(\"y_pred\")\n",
    "plt.show()"
   ]
  },
  {
   "cell_type": "code",
   "execution_count": 181,
   "id": "fc42c05f",
   "metadata": {},
   "outputs": [
    {
     "name": "stderr",
     "output_type": "stream",
     "text": [
      "D:\\ProgramDosyalaari\\anaconda\\lib\\site-packages\\sklearn\\ensemble\\_forest.py:413: FutureWarning: `max_features='auto'` has been deprecated in 1.1 and will be removed in 1.3. To keep the past behaviour, explicitly set `max_features=1.0` or remove this parameter as it is also the default value for RandomForestRegressors and ExtraTreesRegressors.\n",
      "  warn(\n"
     ]
    },
    {
     "name": "stdout",
     "output_type": "stream",
     "text": [
      "Voting Regresssor Score on Training set is 0.9909786764245005\n",
      "Voting Regresssor Score on Test Set is 0.987025705266649\n"
     ]
    },
    {
     "name": "stderr",
     "output_type": "stream",
     "text": [
      "D:\\ProgramDosyalaari\\anaconda\\lib\\site-packages\\sklearn\\ensemble\\_forest.py:413: FutureWarning: `max_features='auto'` has been deprecated in 1.1 and will be removed in 1.3. To keep the past behaviour, explicitly set `max_features=1.0` or remove this parameter as it is also the default value for RandomForestRegressors and ExtraTreesRegressors.\n",
      "  warn(\n",
      "D:\\ProgramDosyalaari\\anaconda\\lib\\site-packages\\sklearn\\ensemble\\_forest.py:413: FutureWarning: `max_features='auto'` has been deprecated in 1.1 and will be removed in 1.3. To keep the past behaviour, explicitly set `max_features=1.0` or remove this parameter as it is also the default value for RandomForestRegressors and ExtraTreesRegressors.\n",
      "  warn(\n",
      "D:\\ProgramDosyalaari\\anaconda\\lib\\site-packages\\sklearn\\ensemble\\_forest.py:413: FutureWarning: `max_features='auto'` has been deprecated in 1.1 and will be removed in 1.3. To keep the past behaviour, explicitly set `max_features=1.0` or remove this parameter as it is also the default value for RandomForestRegressors and ExtraTreesRegressors.\n",
      "  warn(\n",
      "D:\\ProgramDosyalaari\\anaconda\\lib\\site-packages\\sklearn\\ensemble\\_forest.py:413: FutureWarning: `max_features='auto'` has been deprecated in 1.1 and will be removed in 1.3. To keep the past behaviour, explicitly set `max_features=1.0` or remove this parameter as it is also the default value for RandomForestRegressors and ExtraTreesRegressors.\n",
      "  warn(\n",
      "D:\\ProgramDosyalaari\\anaconda\\lib\\site-packages\\sklearn\\ensemble\\_forest.py:413: FutureWarning: `max_features='auto'` has been deprecated in 1.1 and will be removed in 1.3. To keep the past behaviour, explicitly set `max_features=1.0` or remove this parameter as it is also the default value for RandomForestRegressors and ExtraTreesRegressors.\n",
      "  warn(\n"
     ]
    },
    {
     "name": "stdout",
     "output_type": "stream",
     "text": [
      "[0.98053159 0.98269748 0.98174007 0.98212267 0.98347215]\n",
      "Accuracy: 98.21 %\n",
      "Standard Deviation: 0.10 %\n",
      "Mean Absolute Error: 5129.1439423208785\n",
      "Mean Squared Error: 68885843.79593359\n",
      "RMSE: 8299.74962248462\n",
      "The r2_score is 0.987025705266649\n"
     ]
    },
    {
     "name": "stderr",
     "output_type": "stream",
     "text": [
      "D:\\ProgramDosyalaari\\anaconda\\lib\\site-packages\\seaborn\\distributions.py:2619: FutureWarning: `distplot` is a deprecated function and will be removed in a future version. Please adapt your code to use either `displot` (a figure-level function with similar flexibility) or `histplot` (an axes-level function for histograms).\n",
      "  warnings.warn(msg, FutureWarning)\n"
     ]
    },
    {
     "data": {
      "image/png": "[encoded data removed]",
      "text/plain": [
       "<Figure size 432x288 with 1 Axes>"
      ]
     },
     "metadata": {
      "needs_background": "light"
     },
     "output_type": "display_data"
    },
    {
     "data": {
      "image/png": "[encoded data removed]",
      "text/plain": [
       "<Figure size 432x288 with 1 Axes>"
      ]
     },
     "metadata": {
      "needs_background": "light"
     },
     "output_type": "display_data"
    }
   ],
   "source": [
    "from sklearn.ensemble import VotingRegressor\n",
    "vot_reg = VotingRegressor([('DecisionTree', dt_reg), ('RandomForestRegressor', rf_reg)])\n",
    "vot_reg.fit(X_train, y_train)\n",
    "y_pred=vot_reg.predict(X_test)\n",
    "\n",
    "print(\"Voting Regresssor Score on Training set is\",vot_reg.score(X_train, y_train))#Training Accuracy\n",
    "print(\"Voting Regresssor Score on Test Set is\",vot_reg.score(X_test, y_test))#Testing Accuracy\n",
    "\n",
    "accuracies = cross_val_score(vot_reg, X_train, y_train, cv = 5)\n",
    "print(accuracies)\n",
    "print(\"Accuracy: {:.2f} %\".format(accuracies.mean()*100))\n",
    "print(\"Standard Deviation: {:.2f} %\".format(accuracies.std()*100))\n",
    "\n",
    "mae=mean_absolute_error(y_pred, y_test)\n",
    "print(\"Mean Absolute Error:\" , mae)\n",
    "\n",
    "mse=mean_squared_error(y_test, y_pred)\n",
    "print(\"Mean Squared Error:\" , mse)\n",
    "\n",
    "print('RMSE:', np.sqrt(metrics.mean_squared_error(y_test, y_pred)))\n",
    "\n",
    "print('The r2_score is', metrics.r2_score(y_test, y_pred))\n",
    "\n",
    "sns.distplot(y_test-y_pred)\n",
    "plt.show()\n",
    "\n",
    "plt.scatter(y_test, y_pred, alpha = 0.5)\n",
    "plt.xlabel(\"y_test\")\n",
    "plt.ylabel(\"y_pred\")\n",
    "plt.show()"
   ]
  },
  {
   "cell_type": "code",
   "execution_count": null,
   "id": "6fbd6b59",
   "metadata": {},
   "outputs": [],
   "source": []
  },
  {
   "cell_type": "markdown",
   "id": "1ef070ea",
   "metadata": {},
   "source": [
    "# En uygun parametreleri giriyoruz"
   ]
  },
  {
   "cell_type": "code",
   "execution_count": 182,
   "id": "c1a05e14",
   "metadata": {},
   "outputs": [],
   "source": [
    "import pickle\n",
    "pickle.dump(vot_reg, open(\"vot_reg.pkl\", \"wb\"))\n",
    "\n",
    "# load model from file\n",
    "model = pickle.load(open(\"vot_reg.pkl\", \"rb\"))\n",
    "\n",
    "#model.predict([[9.85, 6900, 0, 3, 0, 1, 0]])"
   ]
  },
  {
   "cell_type": "code",
   "execution_count": null,
   "id": "e60edbd8",
   "metadata": {},
   "outputs": [],
   "source": []
  },
  {
   "cell_type": "code",
   "execution_count": null,
   "id": "f4ad5321",
   "metadata": {},
   "outputs": [],
   "source": []
  }
 ],
 "metadata": {
  "kernelspec": {
   "display_name": "Python 3 (ipykernel)",
   "language": "python",
   "name": "python3"
  },
  "language_info": {
   "codemirror_mode": {
    "name": "ipython",
    "version": 3
   },
   "file_extension": ".py",
   "mimetype": "text/x-python",
   "name": "python",
   "nbconvert_exporter": "python",
   "pygments_lexer": "ipython3",
   "version": "3.12.0"
  }
 },
 "nbformat": 4,
 "nbformat_minor": 5
}
